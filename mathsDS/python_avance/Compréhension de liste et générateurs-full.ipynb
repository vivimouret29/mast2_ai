{
 "cells": [
  {
   "cell_type": "code",
   "execution_count": 3,
   "metadata": {},
   "outputs": [],
   "source": [
    "import time"
   ]
  },
  {
   "cell_type": "markdown",
   "metadata": {},
   "source": [
    "## List comprehension"
   ]
  },
  {
   "cell_type": "markdown",
   "metadata": {},
   "source": [
    "Création d'une liste contenant les 10000 premiers carrés\n",
    "- methode naive :"
   ]
  },
  {
   "cell_type": "code",
   "execution_count": 4,
   "metadata": {},
   "outputs": [
    {
     "name": "stdout",
     "output_type": "stream",
     "text": [
      "temps d'execution : 0.01989269256591797\n"
     ]
    }
   ],
   "source": [
    "start_time = time.time()\n",
    "\n",
    "my_list = list()\n",
    "for i in range(100000):\n",
    "    my_list.append(i*i)\n",
    "print(\"temps d'execution :\", (time.time()-start_time))"
   ]
  },
  {
   "cell_type": "markdown",
   "metadata": {},
   "source": [
    "On peut faire la même chose avec les compréhensions de liste:"
   ]
  },
  {
   "cell_type": "code",
   "execution_count": 5,
   "metadata": {},
   "outputs": [
    {
     "name": "stdout",
     "output_type": "stream",
     "text": [
      "temps d'execution : 0.0\n"
     ]
    }
   ],
   "source": [
    "start_time = time.time()\n",
    "my_list = [i*i for i in range(100000)]\n",
    "print(\"temps d'execution :\", (time.time()-start_time))"
   ]
  },
  {
   "cell_type": "markdown",
   "metadata": {},
   "source": [
    "- Comprehension de liste avec plusieurs boucles"
   ]
  },
  {
   "cell_type": "code",
   "execution_count": 6,
   "metadata": {},
   "outputs": [
    {
     "name": "stdout",
     "output_type": "stream",
     "text": [
      "temps d'execution: 1.9037833213806152\n"
     ]
    }
   ],
   "source": [
    "start_time = time.time()\n",
    "my_list = list()\n",
    "for j in range(1000):\n",
    "    for i in range(10000):\n",
    "        my_list.append(i*j)\n",
    "print(\"temps d'execution:\", (time.time()-start_time))"
   ]
  },
  {
   "cell_type": "code",
   "execution_count": 7,
   "metadata": {},
   "outputs": [
    {
     "name": "stdout",
     "output_type": "stream",
     "text": [
      "temps d'execution: 1.0825779438018799\n"
     ]
    }
   ],
   "source": [
    "start_time = time.time()\n",
    "my_list = [i*j for j in range(1000) for i in range(10000)]\n",
    "print(\"temps d'execution:\", (time.time()-start_time))"
   ]
  },
  {
   "cell_type": "markdown",
   "metadata": {},
   "source": [
    "- Avec conditions"
   ]
  },
  {
   "cell_type": "code",
   "execution_count": 8,
   "metadata": {},
   "outputs": [
    {
     "name": "stdout",
     "output_type": "stream",
     "text": [
      "temps d'execution: 0.16240239143371582\n"
     ]
    }
   ],
   "source": [
    "start_time = time.time()\n",
    "\n",
    "my_list = list()\n",
    "for i in range(100000):\n",
    "    if i%2 == 0:\n",
    "        my_list.append(i*i)\n",
    "    else:\n",
    "        my_list.append(i+i)\n",
    "print(\"temps d'execution:\", (time.time()-start_time))"
   ]
  },
  {
   "cell_type": "code",
   "execution_count": 9,
   "metadata": {},
   "outputs": [
    {
     "name": "stdout",
     "output_type": "stream",
     "text": [
      "temps d'execution : 0.01873016357421875\n"
     ]
    }
   ],
   "source": [
    "start_time = time.time()\n",
    "my_list2 = [i*i if i%2==0 else i+i for i in range(100000)]\n",
    "print(\"temps d'execution :\", (time.time()-start_time))"
   ]
  },
  {
   "cell_type": "markdown",
   "metadata": {},
   "source": [
    "vérifions que les deux listes sont bien égales"
   ]
  },
  {
   "cell_type": "code",
   "execution_count": 10,
   "metadata": {},
   "outputs": [
    {
     "data": {
      "text/plain": [
       "True"
      ]
     },
     "execution_count": 10,
     "metadata": {},
     "output_type": "execute_result"
    }
   ],
   "source": [
    "my_list == my_list2"
   ]
  },
  {
   "cell_type": "markdown",
   "metadata": {},
   "source": [
    "- Gestion de conditions complexes.\n",
    "\n",
    "Remarque : il suffit d'ecrire les boucles dans le sens ou on l'ecrirait dans la methode naive "
   ]
  },
  {
   "cell_type": "code",
   "execution_count": 11,
   "metadata": {},
   "outputs": [
    {
     "name": "stdout",
     "output_type": "stream",
     "text": [
      "temps d'execution: 1.1840531826019287\n"
     ]
    }
   ],
   "source": [
    "start_time = time.time()\n",
    "my_list = list()\n",
    "for j in range(1000):\n",
    "    if j%2 == 0:\n",
    "        for i in range(10000):\n",
    "            if i>j:\n",
    "                my_list.append(i*j)\n",
    "            else:\n",
    "                my_list.append(\"Rien\")\n",
    "print(\"temps d'execution:\", (time.time()-start_time))"
   ]
  },
  {
   "cell_type": "code",
   "execution_count": 12,
   "metadata": {},
   "outputs": [
    {
     "name": "stdout",
     "output_type": "stream",
     "text": [
      "temps d'execution: 0.6160871982574463\n"
     ]
    }
   ],
   "source": [
    "start_time = time.time()\n",
    "my_list2 = [i*j if i>j else \"Rien\" for j in range(1000) if j%2 ==0 for i in range(10000)]\n",
    "print(\"temps d'execution:\", (time.time()-start_time))"
   ]
  },
  {
   "cell_type": "code",
   "execution_count": 13,
   "metadata": {},
   "outputs": [
    {
     "data": {
      "text/plain": [
       "True"
      ]
     },
     "execution_count": 13,
     "metadata": {},
     "output_type": "execute_result"
    }
   ],
   "source": [
    "my_list == my_list2"
   ]
  },
  {
   "cell_type": "markdown",
   "metadata": {},
   "source": [
    "Remarque : on ne peut utiliser le else qu'avant les boucles for"
   ]
  },
  {
   "cell_type": "markdown",
   "metadata": {},
   "source": [
    "Exercice : extraire du jeu de donnée suivant la liste des nombres étant un carré d'entier (1,2,4,9,16,...).\n",
    "Vous pouvez utiliser la condition suivante avec la package math pour tester si un nombre est un carré d'entier: i == math.isqrt(i) ** 2."
   ]
  },
  {
   "cell_type": "code",
   "execution_count": null,
   "metadata": {},
   "outputs": [],
   "source": [
    "import math\n",
    "data = np.random.randint(1,10,100)*np.random.randint(1,10,100)\n",
    "data_squared = [i for i in data if i == math.isqrt(i) ** 2]\n",
    "data_squared"
   ]
  },
  {
   "cell_type": "markdown",
   "metadata": {},
   "source": [
    "Bonus : pourquoi je propose une condition avec isqrt, et pas une condition testant simplement si la racine carré est un entier ?"
   ]
  },
  {
   "cell_type": "markdown",
   "metadata": {},
   "source": [
    "# Les générateurs"
   ]
  },
  {
   "cell_type": "code",
   "execution_count": 103,
   "metadata": {},
   "outputs": [],
   "source": [
    "import numpy as np\n",
    "colonne_number = 15\n",
    "line_number = 10000\n",
    "data = np.random.randint(100,size=500)\n",
    "\n",
    "def print_generator(generator):\n",
    "    sum = 0\n",
    "    nombre_batch = 100\n",
    "    for i, batch in enumerate(generator(data)):\n",
    "        print(\"Valeur du batch \",i,\" : \", batch)\n",
    "        try:\n",
    "            sum += len(list(batch))\n",
    "        except TypeError:\n",
    "            sum += len([batch])\n",
    "        if i > nombre_batch:\n",
    "            print(\"Nombre de batch souhaité atteint \")\n",
    "            break\n",
    "    print(\"Echantillons délivrés par le générateurs : \", sum)"
   ]
  },
  {
   "cell_type": "markdown",
   "metadata": {},
   "source": [
    "- faire un générateur qui nous retourne les échantillons un par un"
   ]
  },
  {
   "cell_type": "code",
   "execution_count": 104,
   "metadata": {},
   "outputs": [],
   "source": [
    "def my_generator(data):\n",
    "    for val in data:\n",
    "        yield(val)"
   ]
  },
  {
   "cell_type": "code",
   "execution_count": 105,
   "metadata": {},
   "outputs": [
    {
     "name": "stdout",
     "output_type": "stream",
     "text": [
      "Valeur du batch  0  :  1\n",
      "Valeur du batch  1  :  95\n",
      "Valeur du batch  2  :  15\n",
      "Valeur du batch  3  :  1\n",
      "Valeur du batch  4  :  43\n",
      "Valeur du batch  5  :  63\n",
      "Valeur du batch  6  :  53\n",
      "Valeur du batch  7  :  85\n",
      "Valeur du batch  8  :  84\n",
      "Valeur du batch  9  :  38\n",
      "Valeur du batch  10  :  62\n",
      "Valeur du batch  11  :  23\n",
      "Valeur du batch  12  :  14\n",
      "Valeur du batch  13  :  72\n",
      "Valeur du batch  14  :  29\n",
      "Valeur du batch  15  :  85\n",
      "Valeur du batch  16  :  71\n",
      "Valeur du batch  17  :  16\n",
      "Valeur du batch  18  :  2\n",
      "Valeur du batch  19  :  96\n",
      "Valeur du batch  20  :  49\n",
      "Valeur du batch  21  :  66\n",
      "Valeur du batch  22  :  83\n",
      "Valeur du batch  23  :  33\n",
      "Valeur du batch  24  :  78\n",
      "Valeur du batch  25  :  12\n",
      "Valeur du batch  26  :  80\n",
      "Valeur du batch  27  :  87\n",
      "Valeur du batch  28  :  73\n",
      "Valeur du batch  29  :  45\n",
      "Valeur du batch  30  :  33\n",
      "Valeur du batch  31  :  1\n",
      "Valeur du batch  32  :  7\n",
      "Valeur du batch  33  :  43\n",
      "Valeur du batch  34  :  84\n",
      "Valeur du batch  35  :  71\n",
      "Valeur du batch  36  :  40\n",
      "Valeur du batch  37  :  29\n",
      "Valeur du batch  38  :  12\n",
      "Valeur du batch  39  :  87\n",
      "Valeur du batch  40  :  48\n",
      "Valeur du batch  41  :  76\n",
      "Valeur du batch  42  :  30\n",
      "Valeur du batch  43  :  65\n",
      "Valeur du batch  44  :  56\n",
      "Valeur du batch  45  :  98\n",
      "Valeur du batch  46  :  41\n",
      "Valeur du batch  47  :  96\n",
      "Valeur du batch  48  :  16\n",
      "Valeur du batch  49  :  98\n",
      "Valeur du batch  50  :  16\n",
      "Valeur du batch  51  :  44\n",
      "Valeur du batch  52  :  65\n",
      "Valeur du batch  53  :  2\n",
      "Valeur du batch  54  :  83\n",
      "Valeur du batch  55  :  79\n",
      "Valeur du batch  56  :  20\n",
      "Valeur du batch  57  :  82\n",
      "Valeur du batch  58  :  67\n",
      "Valeur du batch  59  :  13\n",
      "Valeur du batch  60  :  82\n",
      "Valeur du batch  61  :  25\n",
      "Valeur du batch  62  :  33\n",
      "Valeur du batch  63  :  18\n",
      "Valeur du batch  64  :  11\n",
      "Valeur du batch  65  :  39\n",
      "Valeur du batch  66  :  77\n",
      "Valeur du batch  67  :  43\n",
      "Valeur du batch  68  :  39\n",
      "Valeur du batch  69  :  92\n",
      "Valeur du batch  70  :  64\n",
      "Valeur du batch  71  :  96\n",
      "Valeur du batch  72  :  88\n",
      "Valeur du batch  73  :  74\n",
      "Valeur du batch  74  :  12\n",
      "Valeur du batch  75  :  42\n",
      "Valeur du batch  76  :  78\n",
      "Valeur du batch  77  :  77\n",
      "Valeur du batch  78  :  71\n",
      "Valeur du batch  79  :  1\n",
      "Valeur du batch  80  :  34\n",
      "Valeur du batch  81  :  29\n",
      "Valeur du batch  82  :  28\n",
      "Valeur du batch  83  :  80\n",
      "Valeur du batch  84  :  27\n",
      "Valeur du batch  85  :  52\n",
      "Valeur du batch  86  :  12\n",
      "Valeur du batch  87  :  99\n",
      "Valeur du batch  88  :  9\n",
      "Valeur du batch  89  :  22\n",
      "Valeur du batch  90  :  89\n",
      "Valeur du batch  91  :  94\n",
      "Valeur du batch  92  :  36\n",
      "Valeur du batch  93  :  14\n",
      "Valeur du batch  94  :  38\n",
      "Valeur du batch  95  :  54\n",
      "Valeur du batch  96  :  31\n",
      "Valeur du batch  97  :  35\n",
      "Valeur du batch  98  :  20\n",
      "Valeur du batch  99  :  62\n",
      "Valeur du batch  100  :  27\n",
      "Valeur du batch  101  :  35\n",
      "Nombre de batch souhaité atteint \n",
      "Echantillons délivrés par le générateurs :  102\n"
     ]
    }
   ],
   "source": [
    "print_generator(my_generator)"
   ]
  },
  {
   "cell_type": "markdown",
   "metadata": {},
   "source": [
    "- faire un générateur qui nous retourne des batchs de 10 échantillons"
   ]
  },
  {
   "cell_type": "code",
   "execution_count": 106,
   "metadata": {},
   "outputs": [],
   "source": [
    "def my_generator(data):\n",
    "    batch_size = 10\n",
    "    for i in range(0,data.shape[0],batch_size):\n",
    "        yield(data[i:i+batch_size])"
   ]
  },
  {
   "cell_type": "code",
   "execution_count": 107,
   "metadata": {},
   "outputs": [
    {
     "name": "stdout",
     "output_type": "stream",
     "text": [
      "Valeur du batch  0  :  [ 1 95 15  1 43 63 53 85 84 38]\n",
      "Valeur du batch  1  :  [62 23 14 72 29 85 71 16  2 96]\n",
      "Valeur du batch  2  :  [49 66 83 33 78 12 80 87 73 45]\n",
      "Valeur du batch  3  :  [33  1  7 43 84 71 40 29 12 87]\n",
      "Valeur du batch  4  :  [48 76 30 65 56 98 41 96 16 98]\n",
      "Valeur du batch  5  :  [16 44 65  2 83 79 20 82 67 13]\n",
      "Valeur du batch  6  :  [82 25 33 18 11 39 77 43 39 92]\n",
      "Valeur du batch  7  :  [64 96 88 74 12 42 78 77 71  1]\n",
      "Valeur du batch  8  :  [34 29 28 80 27 52 12 99  9 22]\n",
      "Valeur du batch  9  :  [89 94 36 14 38 54 31 35 20 62]\n",
      "Valeur du batch  10  :  [27 35 35 93 50 42 98 14 30 13]\n",
      "Valeur du batch  11  :  [74  2 94 12 25 16 34 14 72 23]\n",
      "Valeur du batch  12  :  [99  6 50 34 84 94 13 96 14  2]\n",
      "Valeur du batch  13  :  [72 48  3 73 42 33 77 63 11 42]\n",
      "Valeur du batch  14  :  [68 24 36 38 98 83 46  4  9 38]\n",
      "Valeur du batch  15  :  [40 80 68 94 14 91 88 81 18 70]\n",
      "Valeur du batch  16  :  [10 28 57 68  2 34 82 35 91 91]\n",
      "Valeur du batch  17  :  [25 51 81 19 30 40 53 84 68 67]\n",
      "Valeur du batch  18  :  [54 20 61 32  6 98  3  2 40 85]\n",
      "Valeur du batch  19  :  [65 53 79 44 49  1 65 68  9  7]\n",
      "Valeur du batch  20  :  [10 18 28 29 81 27 62 41 58 81]\n",
      "Valeur du batch  21  :  [64 75 40 97 46 71 92 57 57 92]\n",
      "Valeur du batch  22  :  [83 53 51 95 74 62 34 18 17 16]\n",
      "Valeur du batch  23  :  [85 89 42 47 80 48 56 79 50 54]\n",
      "Valeur du batch  24  :  [34 94 66 68 87 61 71 98 23 18]\n",
      "Valeur du batch  25  :  [36 41  0 43  0 46 86 27 58 48]\n",
      "Valeur du batch  26  :  [50 89 60  0 59 90 64 74 53 55]\n",
      "Valeur du batch  27  :  [32 95 19 39 82 57 34 39 78 39]\n",
      "Valeur du batch  28  :  [90 53 89 76 25 46 49 13 74 37]\n",
      "Valeur du batch  29  :  [79  2 46 58 84 38 84 49 67 13]\n",
      "Valeur du batch  30  :  [16 57 26 16 37 61 30 98 14 10]\n",
      "Valeur du batch  31  :  [ 8  8 64 14 85 39  7 32 75 93]\n",
      "Valeur du batch  32  :  [43 59 46 80 92  1 22 61 59 18]\n",
      "Valeur du batch  33  :  [93 82 83 49 31 91 82 52  8 75]\n",
      "Valeur du batch  34  :  [74 99 74 61 70 52 20  6 66 19]\n",
      "Valeur du batch  35  :  [76 96 17 52 32  8  1 88 94 25]\n",
      "Valeur du batch  36  :  [ 1 88 30 55 25 51 92 73 62 54]\n",
      "Valeur du batch  37  :  [ 5 30  0 81 75 96 29  8 53 89]\n",
      "Valeur du batch  38  :  [95 42 26 75 16 45 37 14 71 13]\n",
      "Valeur du batch  39  :  [ 9 52 26 43  7 19 39 85 96 80]\n",
      "Valeur du batch  40  :  [78 81 36  5 63 67  2 30 38 63]\n",
      "Valeur du batch  41  :  [98 30 80 46 97 19 93 94 49 24]\n",
      "Valeur du batch  42  :  [94 26 24 54 35 46 91 99 49 87]\n",
      "Valeur du batch  43  :  [89 85 40 31 10  9 35  3 46 58]\n",
      "Valeur du batch  44  :  [42 81 31 13 50 53 50 46 46 96]\n",
      "Valeur du batch  45  :  [67  6 44 98 84  5 77 47  5 57]\n",
      "Valeur du batch  46  :  [72 89 74  6 90 29 95 41 17 59]\n",
      "Valeur du batch  47  :  [87 75  0 65 98 18  5 32 45  9]\n",
      "Valeur du batch  48  :  [83 53 11 59 25 59 70 72 54 81]\n",
      "Valeur du batch  49  :  [12 31 99 93 87 47 70 52 71 75]\n",
      "Echantillons délivrés par le générateurs :  500\n"
     ]
    }
   ],
   "source": [
    "print_generator(my_generator)"
   ]
  },
  {
   "cell_type": "markdown",
   "metadata": {},
   "source": [
    "- faire un générateur qui nous retourne des batchs de 10 échantillons standardisés (standardiser : soustraire la moyenne, puis diviser par la standard deviation)"
   ]
  },
  {
   "cell_type": "code",
   "execution_count": 108,
   "metadata": {},
   "outputs": [
    {
     "name": "stdout",
     "output_type": "stream",
     "text": [
      "Valeur du batch  0  :  [-1.42701498  1.43921169 -1.00013016 -1.42701498 -0.14636051  0.46347495\n",
      "  0.15855722  1.13429396  1.10380218 -0.29881938]\n",
      "Valeur du batch  1  :  [ 0.46861273 -0.74978037 -1.03094801  0.78102122 -0.56233528  1.18715225\n",
      "  0.74978037 -0.96846631 -1.40583819  1.53080159]\n",
      "Valeur du batch  2  :  [-0.49184344  0.2289616   0.94976664 -1.17024818  0.73776516 -2.0606544\n",
      "  0.82256575  1.11936782  0.52576367 -0.66144462]\n",
      "Valeur du batch  3  :  [-0.2614439  -1.347964   -1.14424148  0.07809363  1.47019751  1.02879872\n",
      " -0.02376763 -0.39725891 -0.97447272  1.57205877]\n",
      "Valeur du batch  4  :  [-0.51678338  0.4880732  -1.16276261  0.09330811 -0.2296815   1.27760337\n",
      " -0.76799753  1.2058279  -1.6651909   1.27760337]\n",
      "Valeur du batch  5  :  [-1.02819609 -0.102489    0.59179132 -1.49104964  1.18688874  1.05464487\n",
      " -0.89595222  1.15382777  0.65791325 -1.12737899]\n",
      "Valeur du batch  6  :  [ 1.35491382 -0.78442379 -0.48416588 -1.04714946 -1.30987513 -0.25897245\n",
      "  1.16725263 -0.10884349 -0.25897245  1.73023621]\n",
      "Valeur du batch  7  :  [ 0.12242464  1.18123236  0.91653043  0.45330205 -1.5981379  -0.60550566\n",
      "  0.58565302  0.55256528  0.35403883 -1.96210305]\n",
      "Valeur du batch  8  :  [-0.18669799 -0.3662153  -0.40211876  1.46486119 -0.43802222  0.45956429\n",
      " -0.97657412  2.14702693 -1.08428451 -0.61753952]\n",
      "Valeur du batch  9  :  [ 1.6151027   1.8087601  -0.43766572 -1.28975827 -0.36020276  0.25950091\n",
      " -0.63132312 -0.4763972  -1.05736939  0.56935275]\n",
      "Valeur du batch  10  :  [-0.59551397 -0.31023782 -0.31023782  1.75801431  0.22465497 -0.06062118\n",
      "  1.93631191 -1.05908773 -0.48853542 -1.09474725]\n",
      "Valeur du batch  11  :  [ 1.24594699 -1.15266754  1.91222881 -0.81952663 -0.38644345 -0.68627027\n",
      " -0.08661664 -0.75289845  1.17931881 -0.45307163]\n",
      "Valeur du batch  12  :  [ 1.29608417 -1.12431398  0.02082063 -0.39559196  0.90569737  1.16595524\n",
      " -0.94213348  1.21800681 -0.91610769 -1.22841713]\n",
      "Valeur du batch  13  :  [ 1.05105333  0.06569083 -1.78186385  1.0921101  -0.18064979 -0.55016073\n",
      "  1.25633718  0.68154239 -1.45340968 -0.18064979]\n",
      "Valeur du batch  14  :  [ 0.81542364 -0.70485772 -0.29023553 -0.22113184  1.85197912  1.33370138\n",
      "  0.05528296 -1.39589471 -1.22313546 -0.22113184]\n",
      "Valeur du batch  15  :  [-0.86308033  0.55180546  0.12733972  1.04701549 -1.7827561   0.94089905\n",
      "  0.83478262  0.5871776  -1.64126752  0.19808401]\n",
      "Valeur du batch  16  :  [-1.28269692 -0.70258274  0.23204567  0.5865599  -1.54052545 -0.50921134\n",
      "  1.03775982 -0.47698278  1.32781692  1.32781692]\n",
      "Valeur du batch  17  :  [-1.22406336 -0.0365392   1.33368097 -1.4981074  -0.99569333 -0.53895327\n",
      "  0.05480881  1.47070299  0.7399189   0.69424489]\n",
      "Valeur du batch  18  :  [ 0.42980533 -0.62151706  0.64625405 -0.2504621  -1.05441451  1.79034018\n",
      " -1.14717825 -1.1780995  -0.00309212  1.38836397]\n",
      "Valeur du batch  19  :  [ 0.7808904   0.33466732  1.30148401  0.          0.18592629 -1.59896607\n",
      "  0.7808904   0.89244618 -1.30148401 -1.37585452]\n",
      "Valeur du batch  20  :  [-1.38310538 -1.05281156 -0.63994428 -0.59865755  1.54825229 -0.68123101\n",
      "  0.76380446 -0.10321682  0.59865755  1.54825229]\n",
      "Valeur du batch  21  :  [-0.27011363  0.3124844  -1.5412366   1.47768045 -1.22345586  0.10063057\n",
      "  1.21286316 -0.64085783 -0.64085783  1.21286316]\n",
      "Valeur du batch  22  :  [ 1.20467528  0.0994686   0.02578816  1.64675794  0.87311327  0.4310306\n",
      " -0.60049563 -1.18993919 -1.22677941 -1.26361963]\n",
      "Valeur du batch  23  :  [ 1.28613193  1.5199741  -1.22767139 -0.93536868  0.99382922 -0.87690813\n",
      " -0.4092238   0.93536868 -0.75998705 -0.52614488]\n",
      "Valeur du batch  24  :  [-1.03490978  1.18275403  0.14784425  0.22176638  0.92402659 -0.03696106\n",
      "  0.33264957  1.33059829 -1.44148148 -1.6262868 ]\n",
      "Valeur du batch  25  :  [-0.10281452  0.10281452 -1.58334353  0.18506613 -1.58334353  0.30844355\n",
      "  1.95347579 -0.47294677  0.80195322  0.39069516]\n",
      "Valeur du batch  26  :  [-0.39288267  1.23716243  0.02507762 -2.48268407 -0.01671841  1.27895846\n",
      "  0.19226173  0.61022201 -0.26749458 -0.18390252]\n",
      "Valeur du batch  27  :  [-0.80788463  1.81565825 -1.34925062 -0.51637987  1.27429226  0.23320381\n",
      " -0.72459756 -0.51637987  1.10771811 -0.51637987]\n",
      "Valeur du batch  28  :  [ 1.38739042 -0.08770859  1.34752288  0.82924485 -1.20399973 -0.36678138\n",
      " -0.24717875 -1.68241022  0.74950977 -0.72558924]\n",
      "Valeur du batch  29  :  [ 0.99931483 -1.85058303 -0.22206996  0.22206996  1.18437314 -0.51816325\n",
      "  1.18437314 -0.11103498  0.55517491 -1.44345476]\n",
      "Valeur du batch  30  :  [-0.77457824  0.77457824 -0.3967352  -0.77457824  0.01889215  0.92571546\n",
      " -0.24559798  2.32373471 -0.85014685 -1.00128406]\n",
      "Valeur du batch  31  :  [-1.06721166 -1.06721166  0.66507393 -0.88160963  1.31468103 -0.10826785\n",
      " -1.09814533 -0.32480355  1.00534431  1.5621504 ]\n",
      "Valeur du batch  32  :  [-0.1902654   0.40664565 -0.07834458  1.19009141  1.63777469 -1.7571569\n",
      " -0.97371115  0.48125953  0.40664565 -1.12293891]\n",
      "Valeur du batch  33  :  [ 1.051823    0.64442676  0.68146279 -0.57776193 -1.2444103   0.97775095\n",
      "  0.64442676 -0.46665386 -2.09623879  0.38517462]\n",
      "Valeur du batch  34  :  [ 0.70520835  1.59114849  0.70520835  0.24451948  0.56345793 -0.07441897\n",
      " -1.20842235 -1.70454882  0.42170751 -1.24385995]\n",
      "Valeur du batch  35  :  [ 0.7706175   1.3393389  -0.90711063  0.08815182 -0.48056958 -1.16303527\n",
      " -1.36208776  1.11185034  1.28246676 -0.67962207]\n",
      "Valeur du batch  36  :  [-1.93455855  1.29589431 -0.85774093  0.07055012 -1.04339914 -0.07797645\n",
      "  1.44442088  0.73891968  0.33047161  0.03341848]\n",
      "Valeur du batch  37  :  [-1.18874611 -0.47435542 -1.33162425  0.98300159  0.81154783  1.41163601\n",
      " -0.50293105 -1.10301923  0.18288402  1.21160662]\n",
      "Valeur du batch  38  :  [ 1.90844273 -0.05177945 -0.64354464  1.16873624 -1.01339788  0.05917652\n",
      " -0.23670607 -1.08736853  1.02079495 -1.12435385]\n",
      "Valeur du batch  39  :  [-1.20091047  0.20999527 -0.64311052 -0.08531058 -1.26653399 -0.87279285\n",
      " -0.21655763  1.2927834   1.65371278  1.12872459]\n",
      "Valeur du batch  40  :  [ 1.1729403   1.28394411 -0.38111309 -1.5281525   0.61792123  0.76592631\n",
      " -1.63915631 -0.60312072 -0.30711055  0.61792123]\n",
      "Valeur du batch  41  :  [ 1.13186251 -1.06718465  0.54976179 -0.54976179  1.09952358 -1.42291287\n",
      "  0.97016786  1.00250679 -0.452745   -1.26121822]\n",
      "Valeur du batch  42  :  [ 1.19991554 -1.23573391 -1.30737066 -0.23281943 -0.91336854 -0.51936643\n",
      "  1.09246041  1.37900741 -0.4119113   0.94918692]\n",
      "Valeur du batch  43  :  [ 1.69867439  1.55828808 -0.02105795 -0.33692715 -1.0739553  -1.10905187\n",
      " -0.19654084 -1.31963134  0.18952152  0.61068046]\n",
      "Valeur du batch  44  :  [-0.3973165   1.363518   -0.89396213 -1.70665498 -0.03611968  0.09932913\n",
      " -0.03611968 -0.21671809 -0.21671809  2.04076204]\n",
      "Valeur du batch  45  :  [ 0.5542267  -1.32398601 -0.15395186  1.50872824  1.07766303 -1.35477638\n",
      "  0.86213042 -0.06158074 -1.35477638  0.24632298]\n",
      "Valeur du batch  46  :  [ 0.48490459  1.0418896   0.55043224 -1.67750779  1.07465343 -0.92393984\n",
      "  1.23847255 -0.53077395 -1.31710572  0.05897488]\n",
      "Valeur du batch  47  :  [ 1.27649188  0.92516384 -1.27063642  0.63239047  1.59854259 -0.74364435\n",
      " -1.12424973 -0.33376164  0.04684374 -1.00714039]\n",
      "Valeur du batch  48  :  [ 1.19816835 -0.16856361 -2.08198835  0.10478278 -1.4441801   0.10478278\n",
      "  0.60591784  0.6970333  -0.12300588  1.10705289]\n",
      "Valeur du batch  49  :  [-1.95044352 -1.2336461   1.33173417  1.10537708  0.87902    -0.63002721\n",
      "  0.23767494 -0.44139631  0.27540112  0.42630584]\n",
      "Echantillons délivrés par le générateurs :  500\n"
     ]
    }
   ],
   "source": [
    "import numpy as np\n",
    "def my_generator(data):\n",
    "    batch_size = 10\n",
    "    for i in range(0,data.shape[0],batch_size):\n",
    "        batch = data[i:i+batch_size]\n",
    "        batch = (batch - np.mean(batch)) / np.std(batch)\n",
    "        yield(batch)\n",
    "print_generator(my_generator)"
   ]
  },
  {
   "cell_type": "markdown",
   "metadata": {},
   "source": [
    "Question bonus : faire le même générateur, mais :\n",
    "- qui donne les éléments dans un ordre aléatoire.\n",
    "- qui re-mélange et reprend du début s'il ne lui reste plus assez d'élément dans le dataset pour faire un batch.\n",
    "\n",
    "C'est le genre de générateur que l'on va utiliser pour les modèles de Deep Learning qui ont besoin de voir plusieurs fois le jeu de donnée pour s'entrainer."
   ]
  },
  {
   "cell_type": "code",
   "execution_count": 109,
   "metadata": {},
   "outputs": [
    {
     "name": "stdout",
     "output_type": "stream",
     "text": [
      "Valeur du batch  0  :  [-0.67972463 -0.0064125   0.66689964 -1.09653691 -0.61559967  1.34021178\n",
      "  1.62877412  0.89133702 -1.03241194 -1.09653691]\n",
      "Valeur du batch  1  :  [-0.95726194  0.64385234 -1.4341896   1.59770766  1.22297878  0.16692468\n",
      "  0.57571982 -0.75286438  0.20099094 -1.26385829]\n",
      "Valeur du batch  2  :  [-0.55691481  0.19938925  0.09625688 -1.72574837  0.13063434  1.50573264\n",
      "  0.54316383 -0.07563041  1.36822281 -1.48510617]\n",
      "Valeur du batch  3  :  [-0.4271326   0.60256206 -0.65595364 -0.73222732  1.55598305  1.74666725\n",
      " -0.808501   -1.18986939  0.6406989  -0.73222732]\n",
      "Valeur du batch  4  :  [-0.95377033  1.50440062 -1.54373135  1.27497133 -0.69156543 -0.46213614\n",
      "  0.88166398  0.84888837 -0.06882879 -0.78989226]\n",
      "Valeur du batch  5  :  [ 1.10563246  0.3401946  -0.76543786  1.44582707  0.29767028 -0.63786488\n",
      " -0.46776758  1.31825409 -1.48835139 -1.14815679]\n",
      "Valeur du batch  6  :  [ 0.15296    -1.41586048  1.80022149 -0.00392205 -0.67067075  1.05503177\n",
      " -1.21975792 -0.90599382  0.85892921  0.34906256]\n",
      "Valeur du batch  7  :  [ 0.6729583  -0.69909261 -1.45045382 -0.2417423   0.15027224  0.6729583\n",
      " -1.90780412  0.60762254  1.1303086   1.06497285]\n",
      "Valeur du batch  8  :  [-1.54522211  0.17603796  0.21515751  1.62346121  1.036668   -0.80195072\n",
      "  0.05867932  0.13691842 -1.62346121  0.72371162]\n",
      "Valeur du batch  9  :  [-0.66742277 -0.03355757  0.41387669  0.97316952 -1.33857416  0.19015956\n",
      " -1.74872223  0.19015956  0.15287337  1.86803803]\n",
      "Valeur du batch  10  :  [-1.0987427   1.27963326 -0.79725842 -0.66326541  0.64316646 -0.5962689\n",
      "  2.08359133 -0.69676366  0.40867869 -0.56277065]\n",
      "Valeur du batch  11  :  [-2.37473519 -0.71039087 -0.06089065  0.02029688  0.71039087  1.15692227\n",
      " -0.38564076 -0.02029688  0.34504699  1.31929733]\n",
      "Valeur du batch  12  :  [ 1.62974674  1.46412207 -0.29149942 -1.02024796 -0.85462329  0.76849846\n",
      "  0.50349899  0.00662499 -0.92087316 -1.28524743]\n",
      "Valeur du batch  13  :  [-0.6696318  -0.11993405  2.52860965 -0.86952189 -0.26985162 -0.71960433\n",
      "  1.12937901 -0.36979667 -0.01998901 -0.61965928]\n",
      "Valeur du batch  14  :  [ 1.37624464 -1.11358165 -0.67580999 -1.03149946  1.07527663 -1.1683031\n",
      "  0.55542279  0.4733406   1.29416245 -0.7852529 ]\n",
      "Valeur du batch  15  :  [-0.42925026  1.31095349 -1.70539967  1.77500782 -0.35190787 -0.46792145\n",
      " -0.23589429  1.07892632 -0.50659265 -0.46792145]\n",
      "Valeur du batch  16  :  [-0.60796031  1.17813778  0.18204461  1.62466231 -0.64230835  0.31943678\n",
      " -1.15752896 -0.95144072 -1.15752896  1.21248582]\n",
      "Valeur du batch  17  :  [-0.04209608  0.98691919  1.12723946 -0.7436974  -1.25820504 -0.60337714\n",
      "  1.45465341 -1.25820504  1.03369262 -0.69692398]\n",
      "Valeur du batch  18  :  [ 0.5779837   0.80553634 -0.92386371  1.35166267  1.12411004 -0.60529002\n",
      " -0.87835319 -1.60652163 -0.7418216   0.8965574 ]\n",
      "Valeur du batch  19  :  [-0.28836524 -0.02621502 -0.92501578  0.42318536 -0.02621502 -1.41186619\n",
      "  0.87258574  1.32198612  1.50923628 -1.44931623]\n",
      "Valeur du batch  20  :  [-0.92830949 -0.92830949  0.1759992  -0.13458762  1.79795258 -0.92830949\n",
      " -0.82478055  1.76344293 -0.41066479  0.41756672]\n",
      "Valeur du batch  21  :  [ 0.53032351  0.97848422 -1.97190714  0.64236369  1.0905244  -0.25395774\n",
      " -0.47803809  0.60501696  0.41828333 -1.56109315]\n",
      "Valeur du batch  22  :  [-0.4068386   0.8981154  -0.9441726   1.28192541  0.3224004   0.7062104\n",
      "  1.1284014  -0.6755056  -0.2916956  -2.01884061]\n",
      "Valeur du batch  23  :  [ 0.29961852 -0.4206183  -1.54418774  1.30795007  0.67414166 -1.02561723\n",
      "  1.01985534  0.41485641  0.78937956 -1.51537827]\n",
      "Valeur du batch  24  :  [ 1.03295454 -0.41680622 -1.72159089 -0.59802631 -0.09061005  0.59802631\n",
      " -1.35915071  0.01812201  1.21417463  1.32290669]\n",
      "Valeur du batch  25  :  [ 0.3923975   1.08486367 -0.49791615  1.31568573 -0.06924662 -1.2233569\n",
      " -1.19038232 -0.69576363 -0.76171279  1.64543152]\n",
      "Valeur du batch  26  :  [-0.72493551 -1.54442782 -0.22063255  2.04873079 -0.09455681 -0.03151894\n",
      "  0.66189764 -0.59885977  1.22923847 -0.72493551]\n",
      "Valeur du batch  27  :  [ 0.83086265 -0.59976178 -0.26961768 -0.21459366  0.77583863 -1.26004997\n",
      "  1.27105478  1.43612683 -0.26961768 -1.70024211]\n",
      "Valeur du batch  28  :  [ 0.58446726 -0.45304859  1.13780905 -0.76430334  1.06864133  0.68821885\n",
      " -1.69806761  1.10322519 -0.349297   -1.31764513]\n",
      "Valeur du batch  29  :  [ 1.04927905 -0.42227084  1.11325948 -1.31799686 -0.87013385  0.66539647\n",
      "  0.34549432 -1.86183052  0.40947475  0.88932798]\n",
      "Valeur du batch  30  :  [-0.28070175 -1.15789474 -0.98245614  0.24561404  0.33333333 -0.6754386\n",
      "  1.29824561 -1.37719298  1.16666667  1.42982456]\n",
      "Valeur du batch  31  :  [ 1.12827236 -1.12827236  1.16353087  1.09301384  1.05775533 -1.12827236\n",
      " -1.12827236 -0.9519798  -0.45836064  0.35258511]\n",
      "Valeur du batch  32  :  [ 1.0221157   1.33932402  0.42294443 -1.16309717  0.5639259   0.95162496\n",
      " -0.45818979 -1.72702307 -1.09260643  0.14098148]\n",
      "Valeur du batch  33  :  [ 0.32077125  0.65260358 -1.70709299 -0.60098522  0.68947384  1.09504669\n",
      " -0.23228263  1.64810057 -0.85907703 -1.00655807]\n",
      "Valeur du batch  34  :  [-1.16025773  0.38381149  0.07499765  1.2220205  -0.01323488  1.7072994\n",
      "  0.86909039 -1.29260653 -0.7190951  -1.07202521]\n",
      "Valeur du batch  35  :  [-1.03886752  1.59900925 -0.45267268 -0.02930974 -1.42966408 -1.20169942\n",
      " -0.19214164  1.14307994  0.94768166  0.65458424]\n",
      "Valeur du batch  36  :  [-0.7528678  -0.7528678  -1.23342172  1.48971714 -0.11212925  1.56980946\n",
      " -0.31236005  0.40847083 -1.23342172  0.92907091]\n",
      "Valeur du batch  37  :  [-1.27713795  1.24906899 -0.71575863  0.68768967  0.88417243 -0.8280345\n",
      "  0.85610346  1.19293105 -1.24906899 -0.79996553]\n",
      "Valeur du batch  38  :  [ 0.94201869 -0.12218652  0.4690386  -0.5163366  -0.75282665 -1.26522176\n",
      "  0.03547351  0.62669863 -1.42288179  2.00622391]\n",
      "Valeur du batch  39  :  [-0.8200913  -0.45233735  0.98190303 -1.29817143  0.68769988  0.61414909\n",
      "  0.09929357  1.49675856  0.46704751 -1.77625155]\n",
      "Valeur du batch  40  :  [-0.79794395 -0.58458996  0.65286324  1.33559603  0.69553403 -0.84061475\n",
      " -0.32856516 -1.95005555  1.07957123  0.73820483]\n",
      "Valeur du batch  41  :  [ 1.07560853 -0.51644742  1.11443916 -0.08931046  1.26976169 -0.43878615\n",
      " -0.51644742 -2.18616462  0.60964093 -0.32229425]\n",
      "Valeur du batch  42  :  [ 0.14644313  0.96001611  0.30915773  0.89493027  0.86238735  0.96001611\n",
      " -0.96001611  0.14644313 -1.806132   -1.51324573]\n",
      "Valeur du batch  43  :  [-1.38546214 -0.86914084  0.67982304 -0.69703375 -0.65400697  1.45430498\n",
      "  1.4112782   1.11009078 -0.35281955 -0.69703375]\n",
      "Valeur du batch  44  :  [-1.62761008 -0.9948459  -0.9948459  -0.1863139   0.20037532  0.51675741\n",
      " -0.60815668  0.97375376  1.43075011  1.29013585]\n",
      "Valeur du batch  45  :  [ 0.74199121  0.86231411 -0.02005382 -1.18317517  0.86231411  1.02274464\n",
      " -2.10565073  0.78209884 -0.54145304 -0.42113015]\n",
      "Valeur du batch  46  :  [ 1.4842993   1.4842993  -1.10056663 -0.22117925 -0.86073371  0.25848659\n",
      "  1.19117018 -0.22117925 -0.88738181 -1.12721473]\n",
      "Valeur du batch  47  :  [-1.54243491 -0.14926789 -1.67511749  1.21072848  0.6136569  -0.28195047\n",
      " -0.34829175 -0.08292661  1.44292298  0.81268076]\n",
      "Valeur du batch  48  :  [-1.60892124 -0.00364835  1.01788895 -0.47793352  0.61657073  0.90843852\n",
      "  1.5286576  -1.49947082  0.10580208 -0.58738395]\n",
      "Valeur du batch  49  :  [ 1.23018636  0.70446569 -1.43346501  1.01989809  0.10864894 -0.13668737\n",
      " -1.39841697  0.87970591 -1.39841697  0.42408134]\n",
      "Valeur du batch  50  :  [ 0.39835936  1.29941028 -1.59343742 -0.50269157  1.44168148 -0.2655729\n",
      "  0.11381696 -0.21814917 -1.54601369  0.87259668]\n",
      "Valeur du batch  51  :  [-1.40891673 -1.01838544  0.87418927  1.5050475  -0.2974046  -0.89822196\n",
      "  0.51369885  1.35484316 -0.92826283  0.30341277]\n",
      "Valeur du batch  52  :  [ 0.2273873   1.17827963 -1.01290705  0.14470101 -0.2273873  -0.47544616\n",
      " -0.9715639   1.71574051 -1.55036793  0.9715639 ]\n",
      "Valeur du batch  53  :  [ 1.31159501 -0.53172771  1.09890393 -0.88621285  1.38249204 -1.2761465\n",
      " -1.06345542 -0.70897028 -0.21269108  0.88621285]\n",
      "Valeur du batch  54  :  [-1.45900384 -0.19778245 -0.79972902  1.29275193 -1.25835498 -0.59908016\n",
      "  0.83412597  1.17809544 -0.19778245  1.20675956]\n",
      "Valeur du batch  55  :  [-1.13000168  1.21602257  0.31671327 -0.26979279 -0.97360006  0.5513157\n",
      "  0.94231974  0.86411893 -1.99021057  0.47311489]\n",
      "Valeur du batch  56  :  [-0.2282239  -0.2282239   1.61770472 -0.63097196  1.28208133 -0.93303301\n",
      " -1.03372003  0.2080865  -1.30221873  1.24851899]\n",
      "Valeur du batch  57  :  [-0.186713   -1.98062226 -0.91892086  0.94820918  0.17939093 -0.44298575\n",
      "  1.27770271 -0.77247929  0.80176761  1.09465075]\n",
      "Valeur du batch  58  :  [-0.44634863 -0.70456684  1.10296065  1.13984897 -1.70055137  1.10296065\n",
      " -1.22100326  0.47585928  0.80785412 -0.55701357]\n",
      "Valeur du batch  59  :  [ 1.58161557  1.38912686 -0.31119008 -0.08661992  1.06831234 -0.02245702\n",
      " -0.76033041 -1.59444815 -0.18286427 -1.08114492]\n",
      "Valeur du batch  60  :  [ 0.14432514  0.40673449  0.40673449  1.4563719  -0.57730057 -0.90531226\n",
      "  0.34113216  1.39076956 -1.95494967 -0.70850525]\n",
      "Valeur du batch  61  :  [-0.03469379 -0.31224412  0.52040686  0.3816317  -1.83877092  1.1448951\n",
      "  1.24897647  0.72856961 -0.20816275 -1.63060817]\n",
      "Valeur du batch  62  :  [ 0.4173183  -0.37593136 -1.13469191  1.69341558 -0.30695313  1.03812238\n",
      " -0.51388782 -0.47939871 -1.5485613   1.21056796]\n",
      "Valeur du batch  63  :  [ 1.7812878  -0.79850832 -0.49138974 -0.67566089  0.5221016   0.70637275\n",
      " -1.04420319 -1.16705063 -0.30711859  1.47416921]\n",
      "Valeur du batch  64  :  [ 0.33224133 -0.88597688  1.29204961 -0.14766281  0.0369157  -0.33224133\n",
      "  1.03363969 -0.47990414  1.25513391 -2.10419509]\n",
      "Valeur du batch  65  :  [-1.10862635 -0.57376276  1.85743538 -0.9141305  -0.33064295  0.73908424\n",
      " -0.1361471  -0.57376276 -0.62238673  1.66293953]\n",
      "Valeur du batch  66  :  [-0.33772273 -0.61915833  0.70760952 -2.14695162 -0.29751764  1.19007056\n",
      "  0.22514848 -0.57895325  0.30555866  1.55191634]\n",
      "Valeur du batch  67  :  [ 1.08543309 -0.95529942 -1.10317859 -0.74826859  1.52907059  1.52907059\n",
      " -0.68911692  0.34603725 -0.92572359 -0.06802442]\n",
      "Valeur du batch  68  :  [-0.67519412 -1.26231945 -0.16145946  0.90270519 -1.51918678  0.97609585\n",
      " -0.89536612  1.48983051  0.86600986  0.27888453]\n",
      "Valeur du batch  69  :  [ 0.84541961  0.78481606 -1.15449775 -1.3666102  -0.85147997 -1.06359241\n",
      "  1.45145518 -0.18484085  0.39089294  1.14843739]\n",
      "Valeur du batch  70  :  [ 0.41169255 -1.71426077 -0.4994303  -0.46568501  0.64790958  1.05285307\n",
      "  0.61416429  1.52528714 -1.47804373 -0.09448681]\n",
      "Valeur du batch  71  :  [ 0.84825889 -1.44069367  1.1512085  -0.59916699 -1.57533794  0.57897035\n",
      "  0.34334288  0.78093676  0.94924209 -1.03676087]\n",
      "Valeur du batch  72  :  [-0.46091569 -0.88967446 -0.16614403 -0.78248477  1.36130912 -1.13085128\n",
      "  0.66457611  1.41490397 -1.18444612  1.17372715]\n",
      "Valeur du batch  73  :  [-1.22797948 -0.08122821 -1.22797948 -0.79794776  0.82661654  1.49555478\n",
      "  0.109897   -1.08463557  1.35221087  0.63549133]\n",
      "Valeur du batch  74  :  [-0.38171035 -1.27507499  0.26800939  1.03955159 -1.64054235 -0.62535525\n",
      "  0.47104681  1.72987881 -0.38171035  0.79590668]\n",
      "Valeur du batch  75  :  [ 0.33836187  1.3904114  -1.28236307 -1.08332667  0.85016975 -0.77055519\n",
      " -0.71368765  0.87860352  1.30511009 -0.91272405]\n",
      "Valeur du batch  76  :  [-0.33505533 -0.7949352  -0.66354095  0.65040152  1.73440406 -0.92632944\n",
      "  1.66870694  0.42046159 -0.99202657 -0.76208663]\n",
      "Valeur du batch  77  :  [-0.76200342  1.17101996 -1.18222589  1.47918311 -0.53788477  1.05896064\n",
      " -1.15421106  0.30256018  0.69476782 -1.07016657]\n",
      "Valeur du batch  78  :  [ 1.58278671 -1.07221035  1.48067144  0.10211527 -1.27644089 -0.76586454\n",
      " -1.17432562  0.20423054  0.66374926  0.25528818]\n",
      "Valeur du batch  79  :  [-1.4282895   0.22291223 -0.97420903 -0.72652876  1.37875345  1.75027384\n",
      " -0.27244829 -0.60268863 -0.31372833  0.96595302]\n",
      "Valeur du batch  80  :  [ 0.28439178 -0.62408195  0.00789977  1.15336665 -0.54508424 -0.58458309\n",
      "  0.75837807  1.31136208  0.48188606 -2.24353512]\n",
      "Valeur du batch  81  :  [-1.37028198  0.46395374  0.17623049 -0.43518142 -1.37028198 -0.72290467\n",
      " -0.3272852   1.65081215  0.42798834  1.50695053]\n",
      "Valeur du batch  82  :  [ 0.66917293  1.08270677 -0.83458647 -0.57142857 -0.04511278  1.72180451\n",
      " -1.36090226  0.81954887 -0.12030075 -1.36090226]\n",
      "Valeur du batch  83  :  [ 0.97505199 -0.61470669  1.25767575 -0.57937872  0.72775619  0.55111634\n",
      "  0.30382055 -1.74520174 -1.53323392  0.65710025]\n",
      "Valeur du batch  84  :  [-0.09842681  0.72179659 -0.98426807  1.54201998  1.01707701 -0.72179659\n",
      "  0.82022339  0.42651616 -1.41078424 -1.31235743]\n",
      "Valeur du batch  85  :  [ 1.06939705 -1.39844229  0.07658812  1.26795883 -0.32053545 -1.37007632\n",
      "  0.89920123  0.95593317  0.07658812 -1.25661245]\n",
      "Valeur du batch  86  :  [-1.23531473 -0.66340976 -1.34969573  1.19528138  0.68056691  1.10949564\n",
      "  0.99511464  0.8521384  -1.03514799 -0.54902877]\n",
      "Valeur du batch  87  :  [-1.19486742 -1.016529    0.73118753  1.23053511 -0.90952595  0.48151374\n",
      "  0.05350153  1.72988269  0.08916921 -1.19486742]\n",
      "Valeur du batch  88  :  [-1.12404711  0.41510454 -0.42443273  2.70051153 -0.0046641   0.13525878\n",
      " -0.14458697 -0.19122793 -0.47107369 -0.89084232]\n",
      "Valeur du batch  89  :  [-1.76928745  0.93880559 -1.11934512 -0.54161861 -0.21664744  1.55264001\n",
      " -0.5055107   0.93880559  0.90269768 -0.18053954]\n",
      "Valeur du batch  90  :  [ 0.89567681 -0.64711578 -0.38998368 -0.47569438  1.40994101  0.72425541\n",
      " -1.41851208  0.63854471 -1.63278883  0.89567681]\n",
      "Valeur du batch  91  :  [-0.62641123  0.95277675 -0.36321324 -0.57377163 -1.20544683  2.11084794\n",
      " -0.31057364 -1.10016763  1.00541635  0.11054316]\n",
      "Valeur du batch  92  :  [ 0.07027933  1.29092026 -1.07638337  0.81006171 -0.7434813   0.47715964\n",
      "  0.77307259 -1.00240513  1.10597466 -1.7051984 ]\n",
      "Valeur du batch  93  :  [ 1.15161334  0.60147958  0.96823542  0.74818191 -0.90221937  0.12469699\n",
      " -0.75551703 -1.9658113  -0.86554378  0.89488425]\n",
      "Valeur du batch  94  :  [-0.86465367  1.09059332  0.13469479  0.26504459  1.00369346  0.09124486\n",
      "  1.69889239 -1.0384534  -1.47295274 -0.9081036 ]\n",
      "Valeur du batch  95  :  [ 1.62082039  0.30757572 -0.86743266  0.30757572 -0.86743266 -1.21302336\n",
      " -0.38360568 -1.17846429  0.92963898  1.34434783]\n",
      "Valeur du batch  96  :  [-0.70557657 -0.80092476 -0.45131474 -0.80092476  1.01069076 -1.02340385\n",
      "  0.75642894  1.1696044  -0.92805567  1.77347624]\n",
      "Valeur du batch  97  :  [-0.60701149  0.78798386  1.5420354   0.59947097 -0.38079603  0.59947097\n",
      " -1.66268365  0.82568644 -1.51187334 -0.19228314]\n",
      "Valeur du batch  98  :  [ 0.67195192  0.02317076 -1.92317273  0.81097645  0.76463494 -0.02317076\n",
      " -0.44024436 -0.39390285  1.69146518 -1.18170855]\n",
      "Valeur du batch  99  :  [ 0.51819029 -0.06844023  0.86039142  0.42041854 -0.21509786 -0.65507074\n",
      "  0.0782174   1.69145132 -2.31719053 -0.31286961]\n",
      "Valeur du batch  100  :  [ 1.33933161  0.41565464  1.17139034 -0.21412512  0.79352249 -1.93552311\n",
      " -0.38206638 -1.43169931  0.20572805  0.03778679]\n",
      "Valeur du batch  101  :  [-1.09738427 -0.24126888  0.69267517  0.22570315 -0.55258357  0.84833252\n",
      "  1.23747587  1.47096189 -1.56435629 -1.01955559]\n",
      "Nombre de batch souhaité atteint \n",
      "Echantillons délivrés par le générateurs :  1020\n"
     ]
    }
   ],
   "source": [
    "import numpy as np\n",
    "\n",
    "def my_generator(data):\n",
    "    batch_size = 10\n",
    "    while(True):\n",
    "        np.random.shuffle(data)\n",
    "        for i in range(0,data.shape[0],batch_size):\n",
    "            batch = data[i:i+batch_size]\n",
    "            batch = (batch - np.mean(batch)) / np.std(batch)\n",
    "            yield(batch)\n",
    "print_generator(my_generator)"
   ]
  }
 ],
 "metadata": {
  "kernelspec": {
   "display_name": "Python 3 (ipykernel)",
   "language": "python",
   "name": "python3"
  },
  "language_info": {
   "codemirror_mode": {
    "name": "ipython",
    "version": 3
   },
   "file_extension": ".py",
   "mimetype": "text/x-python",
   "name": "python",
   "nbconvert_exporter": "python",
   "pygments_lexer": "ipython3",
   "version": "3.9.13"
  }
 },
 "nbformat": 4,
 "nbformat_minor": 4
}
