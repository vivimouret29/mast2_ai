{
 "cells": [
  {
   "cell_type": "markdown",
   "metadata": {},
   "source": [
    "# Création d'un jeu de donnée pour le tp \n",
    "- series normales (label = 0)\n",
    "- series anormales (label = 1)\n",
    "- tous les points sont pris dans le même intervalle de temps (1-10), mais la frequence d'échantillonage peut varier d'une série à une autre"
   ]
  },
  {
   "cell_type": "code",
   "execution_count": null,
   "metadata": {},
   "outputs": [],
   "source": [
    "import numpy as np\n",
    "import matplotlib.pyplot as plt\n",
    "from sklearn.model_selection import train_test_split\n",
    "import seaborn as sns\n",
    "import scipy\n",
    "from sklearn.ensemble import RandomForestClassifier\n",
    "from sklearn.metrics import precision_score, recall_score\n",
    "\n",
    "def random_ts(mean, base_freq, base_noise):\n",
    "    points = np.linspace(1,10,100+np.random.randint(10))\n",
    "    f_cos = base_freq*np.random.randint(10)-5\n",
    "    f_sin = base_freq*np.random.randint(10)-5\n",
    "    noise = base_noise* np.random.rand(len(points))\n",
    "    return f_cos*np.cos(points)+f_sin*np.sin(points)+noise\n",
    "\n",
    "data_normal = [random_ts(1, 1, 3) for i in range(700)]\n",
    "data_ano = [random_ts(1.05, 1.3, 3.5) for i in range(300)]\n",
    "labels = [1]*700 + [0]*300\n",
    "data = data_normal+data_ano\n",
    "\n",
    "def train_and_eval(data, labels):\n",
    "    x_train, x_val, y_train, y_val = train_test_split(data,labels)\n",
    "    clf = RandomForestClassifier()\n",
    "    clf.fit(x_train, y_train)\n",
    "    y_pred = clf.predict(x_val)\n",
    "    print(\"\\tPrecision: %1.3f\" % precision_score(y_val, y_pred))\n",
    "    print(\"\\tRecall: %1.3f\" % recall_score(y_val, y_pred))"
   ]
  },
  {
   "cell_type": "markdown",
   "metadata": {},
   "source": [
    "- regardons les echantillons :"
   ]
  },
  {
   "cell_type": "code",
   "execution_count": null,
   "metadata": {},
   "outputs": [],
   "source": [
    "len(data[0])"
   ]
  },
  {
   "cell_type": "code",
   "execution_count": null,
   "metadata": {},
   "outputs": [],
   "source": [
    "points = np.linspace(1,10,len(data[0]))\n",
    "sns.lineplot(x=points, y=data[0])"
   ]
  },
  {
   "cell_type": "code",
   "execution_count": null,
   "metadata": {},
   "outputs": [],
   "source": [
    "len(data[1])"
   ]
  },
  {
   "cell_type": "code",
   "execution_count": null,
   "metadata": {},
   "outputs": [],
   "source": [
    "points = np.linspace(1,10,len(data[1]))\n",
    "sns.lineplot(x=points, y=data[1])"
   ]
  },
  {
   "cell_type": "markdown",
   "metadata": {},
   "source": [
    "- le nombre de points varie légerement entre les séries, et donc le temps d'acquisition de chaque valeur de la série temporelle comme la frequence d'échantillonage reste constante"
   ]
  },
  {
   "cell_type": "markdown",
   "metadata": {},
   "source": [
    "### Interpolation linéaire"
   ]
  },
  {
   "cell_type": "markdown",
   "metadata": {},
   "source": [
    "on veut ramener tous les échantillon à 100 points, comme c'est le nombre de point de la plus petite TS du jeu de donnée"
   ]
  },
  {
   "cell_type": "code",
   "execution_count": null,
   "metadata": {},
   "outputs": [],
   "source": [
    "interpolation_times =  np.linspace(1,10,100) # les points du temps ou l'on veut interpoler\n",
    "\n",
    "interpolated_data = list()\n",
    "for ts in data:\n",
    "    original_ts_time = np.linspace(1,10,len(ts))\n",
    "    interpolation_function = None # genere la fonction d'interpolation\n",
    "    interpolated_values = None # obtient les valeurs aux instants que l'on souhaite\n",
    "    interpolated_data.append(interpolated_values)"
   ]
  },
  {
   "cell_type": "code",
   "execution_count": null,
   "metadata": {},
   "outputs": [],
   "source": [
    "len(interpolated_data)"
   ]
  },
  {
   "cell_type": "code",
   "execution_count": null,
   "metadata": {},
   "outputs": [],
   "source": [
    "len(interpolated_data[1])"
   ]
  },
  {
   "cell_type": "markdown",
   "metadata": {},
   "source": [
    "- on s'est bien ramené à un jeu de donnée \"homogene\", constitué de series temporelles\n",
    "    - ayant un meme nombre de point\n",
    "    - interpolées au mêmes instants (ceux d'interpolation_times)"
   ]
  },
  {
   "cell_type": "code",
   "execution_count": null,
   "metadata": {},
   "outputs": [],
   "source": [
    "train_and_eval(interpolated_data, labels)"
   ]
  },
  {
   "cell_type": "markdown",
   "metadata": {},
   "source": [
    "### Extraction d'indicateurs simples"
   ]
  },
  {
   "cell_type": "markdown",
   "metadata": {},
   "source": [
    "- creer des features simples : moyenne, std, max, min"
   ]
  },
  {
   "cell_type": "code",
   "execution_count": null,
   "metadata": {},
   "outputs": [],
   "source": [
    "sample_mean = None\n",
    "sample_std = None\n",
    "sample_max = None\n",
    "sample_min = None"
   ]
  },
  {
   "cell_type": "code",
   "execution_count": null,
   "metadata": {},
   "outputs": [],
   "source": [
    "featured_data = np.zeros((1000,4))\n",
    "featured_data[:,0] =sample_mean \n",
    "featured_data[:,1] =sample_std \n",
    "featured_data[:,2] =sample_max \n",
    "featured_data[:,3] =sample_min "
   ]
  },
  {
   "cell_type": "markdown",
   "metadata": {},
   "source": [
    "- Verifions l'interet de nos features :"
   ]
  },
  {
   "cell_type": "code",
   "execution_count": null,
   "metadata": {},
   "outputs": [],
   "source": [
    "plt.scatter(None, None)\n",
    "plt.scatter(None, None, color='red')\n",
    "plt.show()"
   ]
  },
  {
   "cell_type": "code",
   "execution_count": null,
   "metadata": {},
   "outputs": [],
   "source": [
    "train_and_eval(featured_data, labels)"
   ]
  },
  {
   "cell_type": "markdown",
   "metadata": {},
   "source": [
    "### PCA"
   ]
  },
  {
   "cell_type": "code",
   "execution_count": null,
   "metadata": {},
   "outputs": [],
   "source": [
    "from sklearn.decomposition import PCA\n",
    "\n",
    "pca_data = None"
   ]
  },
  {
   "cell_type": "code",
   "execution_count": null,
   "metadata": {},
   "outputs": [],
   "source": [
    "plt.scatter(pca_data[:,0][np.array(labels)==0], pca_data[:,1][np.array(labels)==0])\n",
    "plt.scatter(pca_data[:,0][np.array(labels)==1], pca_data[:,1][np.array(labels)==1], color='red')\n",
    "plt.show()"
   ]
  },
  {
   "cell_type": "markdown",
   "metadata": {},
   "source": [
    "- ça a l'air mieux\n",
    "- quel drole de motif, un quadrillage de taille 10 alors que j'ai généré les données avec des randints prenant 10 valeurs possibles !"
   ]
  },
  {
   "cell_type": "code",
   "execution_count": null,
   "metadata": {},
   "outputs": [],
   "source": [
    "train_and_eval(pca_data, labels)"
   ]
  },
  {
   "cell_type": "markdown",
   "metadata": {},
   "source": [
    "- c'est mieux !"
   ]
  },
  {
   "cell_type": "markdown",
   "metadata": {},
   "source": [
    "### FFT"
   ]
  },
  {
   "cell_type": "code",
   "execution_count": null,
   "metadata": {},
   "outputs": [],
   "source": [
    "from scipy.fft import fft\n",
    "fft_data = np.array([None for x in interpolated_data])\n",
    "fft_data = fft_data/np.mean(fft_data)"
   ]
  },
  {
   "cell_type": "code",
   "execution_count": null,
   "metadata": {},
   "outputs": [],
   "source": [
    "plt.scatter(fft_data[:,0][np.array(labels)==0], fft_data[:,1][np.array(labels)==0])\n",
    "plt.scatter(fft_data[:,0][np.array(labels)==1], fft_data[:,1][np.array(labels)==1], color='red')\n",
    "plt.show()"
   ]
  },
  {
   "cell_type": "code",
   "execution_count": null,
   "metadata": {},
   "outputs": [],
   "source": [
    "train_and_eval(fft_data, labels)"
   ]
  },
  {
   "cell_type": "markdown",
   "metadata": {},
   "source": [
    "- c'est moins bien !"
   ]
  },
  {
   "cell_type": "code",
   "execution_count": null,
   "metadata": {},
   "outputs": [],
   "source": [
    "concat_data = None"
   ]
  },
  {
   "cell_type": "code",
   "execution_count": null,
   "metadata": {},
   "outputs": [],
   "source": [
    "train_and_eval(concat_data, labels)"
   ]
  },
  {
   "cell_type": "markdown",
   "metadata": {},
   "source": [
    "- mais cela apporte quand même ajouté à la pca simple !"
   ]
  },
  {
   "cell_type": "markdown",
   "metadata": {},
   "source": [
    "## Les wavelets"
   ]
  },
  {
   "cell_type": "code",
   "execution_count": null,
   "metadata": {},
   "outputs": [],
   "source": [
    "from scipy.signal import cwt\n",
    "from scipy import signal\n",
    "widths = np.arange(1,30)\n",
    "wavelet_data = np.array([np.abs(None) for x in interpolated_data])\n",
    "wavelet_data = wavelet_data/np.mean(wavelet_data)"
   ]
  },
  {
   "cell_type": "code",
   "execution_count": null,
   "metadata": {},
   "outputs": [],
   "source": [
    "plt.imshow(np.mean(wavelet_data[np.array(labels)==0],axis=0), cmap='PRGn', aspect='auto')"
   ]
  },
  {
   "cell_type": "code",
   "execution_count": null,
   "metadata": {},
   "outputs": [],
   "source": [
    "plt.imshow(np.mean(wavelet_data[np.array(labels)==1],axis=0), cmap='PRGn',aspect='auto')"
   ]
  },
  {
   "cell_type": "markdown",
   "metadata": {},
   "source": [
    "- la difference a l'air plus flagrante \"en bas\""
   ]
  },
  {
   "cell_type": "code",
   "execution_count": null,
   "metadata": {},
   "outputs": [],
   "source": [
    "wavelet_data = None\n",
    "plt.imshow(np.mean(wavelet_data[np.array(labels)==0],axis=0), cmap='PRGn', aspect='auto')"
   ]
  },
  {
   "cell_type": "code",
   "execution_count": null,
   "metadata": {},
   "outputs": [],
   "source": [
    "plt.imshow(np.mean(wavelet_data[np.array(labels)==1],axis=0), cmap='PRGn',aspect='auto')"
   ]
  },
  {
   "cell_type": "code",
   "execution_count": null,
   "metadata": {},
   "outputs": [],
   "source": [
    "wavelet_data_max= None\n",
    "wavelet_data_mean= None\n",
    "wavelet_data_std = None\n",
    "wavelet_data_min = None"
   ]
  },
  {
   "cell_type": "code",
   "execution_count": null,
   "metadata": {},
   "outputs": [],
   "source": [
    "plt.scatter(wavelet_data_max[:][np.array(labels)==0], wavelet_data_mean[:][np.array(labels)==0])\n",
    "plt.scatter(wavelet_data_max[:][np.array(labels)==1], wavelet_data_mean[:][np.array(labels)==1], color='red')\n",
    "plt.show()"
   ]
  },
  {
   "cell_type": "code",
   "execution_count": null,
   "metadata": {},
   "outputs": [],
   "source": [
    "wave_data = np.zeros((1000,4))\n",
    "wave_data[:,0] =wavelet_data_max\n",
    "wave_data[:,1] =wavelet_data_mean\n",
    "wave_data[:,2] =wavelet_data_min\n",
    "wave_data[:,3] =wavelet_data_std\n",
    "train_and_eval(wave_data, labels)"
   ]
  },
  {
   "cell_type": "markdown",
   "metadata": {},
   "source": [
    "- moins interessant que l'approche fft"
   ]
  },
  {
   "cell_type": "code",
   "execution_count": null,
   "metadata": {},
   "outputs": [],
   "source": [
    "pca_wave = None"
   ]
  },
  {
   "cell_type": "code",
   "execution_count": null,
   "metadata": {},
   "outputs": [],
   "source": [
    "train_and_eval(pca_wave, labels)"
   ]
  },
  {
   "cell_type": "markdown",
   "metadata": {},
   "source": [
    "- un peu mieux avec une pca"
   ]
  },
  {
   "cell_type": "code",
   "execution_count": null,
   "metadata": {},
   "outputs": [],
   "source": [
    "concat_data = None"
   ]
  },
  {
   "cell_type": "code",
   "execution_count": null,
   "metadata": {},
   "outputs": [],
   "source": [
    "train_and_eval(concat_data, labels)"
   ]
  },
  {
   "cell_type": "markdown",
   "metadata": {},
   "source": [
    "- redondant avec la fft"
   ]
  },
  {
   "cell_type": "markdown",
   "metadata": {},
   "source": [
    "# Et pour aller plus loin ?:\n",
    "- creuser davantage les paramètres de chaques methodes et les combinaisons de features\n",
    "- selection automatique des meilleures features, ... \n",
    "- ts_fresh\n",
    "- changer le modèle\n",
    "- utilisation de réseaux de neurones (convolution, lstm)"
   ]
  },
  {
   "cell_type": "code",
   "execution_count": null,
   "metadata": {},
   "outputs": [],
   "source": []
  }
 ],
 "metadata": {
  "kernelspec": {
   "display_name": "Python 3",
   "language": "python",
   "name": "python3"
  },
  "language_info": {
   "codemirror_mode": {
    "name": "ipython",
    "version": 3
   },
   "file_extension": ".py",
   "mimetype": "text/x-python",
   "name": "python",
   "nbconvert_exporter": "python",
   "pygments_lexer": "ipython3",
   "version": "3.6.8"
  }
 },
 "nbformat": 4,
 "nbformat_minor": 4
}
