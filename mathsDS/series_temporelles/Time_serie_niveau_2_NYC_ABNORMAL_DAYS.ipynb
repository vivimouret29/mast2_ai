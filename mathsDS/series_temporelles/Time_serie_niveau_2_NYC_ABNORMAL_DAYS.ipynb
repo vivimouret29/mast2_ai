{
 "cells": [
  {
   "cell_type": "markdown",
   "id": "1020a965",
   "metadata": {},
   "source": [
    "Le client veut une méthode automatique pour détecter des journées anormales par rapport aux autre.\n",
    "\n",
    "Les données qu'il a passé sont dans le fichier train.csv, et contiennent différentes données sur les taxi de New York.\n",
    "\n",
    "Le client veut détecter des journées anormales (différentes des autres). Utilisez ce que l'on a vu sur les séries temporelles pour répondre à cette question ! Vous êtes bien sur libres de proposer et suivre vos propres pistes, ou suivre le déroulement décrit ci-dessus."
   ]
  },
  {
   "cell_type": "markdown",
   "id": "670b4c38",
   "metadata": {},
   "source": [
    "### Exploration de données\n",
    "\n",
    "Chargez et explorez le jeu de données\n",
    "\n",
    "Tip :Pensez à charger les colonnes de dates en tant que date pour vous simplifier la suite des analyses."
   ]
  },
  {
   "cell_type": "code",
   "execution_count": 1,
   "id": "d073e19c",
   "metadata": {},
   "outputs": [],
   "source": [
    "import pandas as pd"
   ]
  },
  {
   "cell_type": "code",
   "execution_count": 12,
   "id": "fe6e7306",
   "metadata": {},
   "outputs": [],
   "source": []
  },
  {
   "cell_type": "markdown",
   "id": "e74c4309",
   "metadata": {},
   "source": [
    "## 1ere étape : splitter le jeu de donnée en journées\n",
    "\n",
    "Commencez d'abord par afficher l'evolution d'une métrique (duration, date de debut, ...) en fonction du temps pour différentes journées. Qu'observez vous ?"
   ]
  },
  {
   "cell_type": "markdown",
   "id": "9283e877",
   "metadata": {},
   "source": [
    "Utilisez les méthodes vu en cours pour débruiter et extraire bruit et tendance, est-ce plus clair ?"
   ]
  },
  {
   "cell_type": "markdown",
   "id": "a5a24af9",
   "metadata": {},
   "source": [
    "Splittez le jeu de donnée en journée pour une des modalité (métrique, bruité ou pas, ...) que vous avez trouvé intéressante"
   ]
  },
  {
   "cell_type": "markdown",
   "id": "b08392d6",
   "metadata": {},
   "source": [
    "## 2eme étape : calculer une matrice de distance (journée/journée)"
   ]
  },
  {
   "cell_type": "markdown",
   "id": "78583dc8",
   "metadata": {},
   "source": [
    "Quelle distance est adapté pour comparer ces séries temporelles ?"
   ]
  },
  {
   "cell_type": "markdown",
   "id": "821fc6ed",
   "metadata": {},
   "source": [
    "## 3eme étape : trouver les outliers en fonction des distances "
   ]
  },
  {
   "cell_type": "markdown",
   "id": "4c065d39",
   "metadata": {},
   "source": [
    "Soit visuellement par du clustering (ex : clustering hierarchique, kmeans (mais pas celui de scikit qui n'accepte pas une distance personalisé), ou algo de détection d'anomalie \"custom\", en repérant ceux en moyenne les plus éloigné des autres, ou via scikit"
   ]
  },
  {
   "cell_type": "code",
   "execution_count": null,
   "id": "2ec4581b",
   "metadata": {},
   "outputs": [],
   "source": []
  }
 ],
 "metadata": {
  "kernelspec": {
   "display_name": "Python 3 (ipykernel)",
   "language": "python",
   "name": "python3"
  },
  "language_info": {
   "codemirror_mode": {
    "name": "ipython",
    "version": 3
   },
   "file_extension": ".py",
   "mimetype": "text/x-python",
   "name": "python",
   "nbconvert_exporter": "python",
   "pygments_lexer": "ipython3",
   "version": "3.9.13"
  }
 },
 "nbformat": 4,
 "nbformat_minor": 5
}
