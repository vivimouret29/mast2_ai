{
 "cells": [
  {
   "cell_type": "code",
   "execution_count": 1,
   "metadata": {},
   "outputs": [],
   "source": [
    "import pandas as pd\n",
    "import numpy as np\n",
    "import matplotlib.pyplot as plt"
   ]
  },
  {
   "cell_type": "markdown",
   "metadata": {},
   "source": [
    "# Exercice 1\n",
    "\n",
    "Analyse statistique du dataset de fleurs Iris. Le jeu de données comprend 50 échantillons de chacune des trois espèces d'iris (Iris setosa, Iris virginica et Iris versicolor).  Quatre caractéristiques ont été mesurées pour chaque échantillon : la longueur et la largeur des sépales et des pétales, en centimètres.\n",
    "\n",
    "Si vous voulez changer de dataset, analysez des poissons au lieu de fleurs : \"Fish\""
   ]
  },
  {
   "cell_type": "markdown",
   "metadata": {},
   "source": [
    "### Importer le dataset"
   ]
  },
  {
   "cell_type": "code",
   "execution_count": null,
   "metadata": {},
   "outputs": [],
   "source": [
    "from sklearn import datasets \n",
    "\n",
    "iris = datasets.load_iris(as_frame=True) # true si vous voulez un dataframe pandas, false si vous voulez un np.array\n",
    "X = iris.data  # données des 4 caractéristiques des fleurs\n",
    "y = iris.target  # labels du type de fleur pour chaque instance"
   ]
  },
  {
   "cell_type": "markdown",
   "metadata": {},
   "source": [
    "TODO : affichez taille du dataset et quelques exemples"
   ]
  },
  {
   "cell_type": "code",
   "execution_count": null,
   "metadata": {},
   "outputs": [],
   "source": []
  },
  {
   "cell_type": "markdown",
   "metadata": {},
   "source": [
    " Créer un nouveau dataframe dans une variable X0, qui prend en compte seulement les individus appartenant à la classe y = 0 (Iris Setosa)"
   ]
  },
  {
   "cell_type": "code",
   "execution_count": null,
   "metadata": {},
   "outputs": [],
   "source": []
  },
  {
   "cell_type": "markdown",
   "metadata": {},
   "source": [
    "Calculer et afficher les valeurs des statistiques de base pour les variables 'Sepal length' et 'Sepal width' du dataset X0 :\n",
    "* moyenne, mode, mediane\n",
    "* deviation standard"
   ]
  },
  {
   "cell_type": "code",
   "execution_count": null,
   "metadata": {},
   "outputs": [],
   "source": []
  },
  {
   "cell_type": "markdown",
   "metadata": {},
   "source": [
    "Réfaire la même chose pour les individus de la classe y==1 (Iris Virginica), dans un datset X1.\n",
    "Est-ce que vous remarquez des différences par rapport au type de Iris précédent? Pouvez vous tirer des conclusions?"
   ]
  },
  {
   "cell_type": "code",
   "execution_count": null,
   "metadata": {},
   "outputs": [],
   "source": []
  },
  {
   "cell_type": "markdown",
   "metadata": {},
   "source": [
    "Pour les fleur Iris Setosa et Iris Virginica, faire aussi le calcul des quartiles pour la variable 'sepal length'. \n",
    "Ensuite, faire le plot de l'histogramme de cette variable et y rajouter des lignes verticales pour moyenne, mode, mediane et quartiles. Observez vous des différences ou des similarités?"
   ]
  },
  {
   "cell_type": "code",
   "execution_count": null,
   "metadata": {},
   "outputs": [],
   "source": []
  },
  {
   "cell_type": "markdown",
   "metadata": {},
   "source": [
    "Pour les variables 'Sepal length' et 'Sepal width' du dataset X0, calculer le degré de corrélation linéaire, et \"visualiser\" cela à l'aide de leur scatterplot"
   ]
  },
  {
   "cell_type": "code",
   "execution_count": null,
   "metadata": {},
   "outputs": [],
   "source": []
  },
  {
   "cell_type": "markdown",
   "metadata": {},
   "source": [
    "Dans le dataset complet X, visualisez si les trois classes de fleurs sont visuellement séparées sur un scatterplot dans les variables 'Sepal length' et 'Sepal width'. \n",
    "à noter que, le cas échéant, il serait assez simple de construire un modèle de classification d'Iris dans ces deux variables."
   ]
  },
  {
   "cell_type": "code",
   "execution_count": null,
   "metadata": {},
   "outputs": [],
   "source": []
  },
  {
   "cell_type": "markdown",
   "metadata": {},
   "source": [
    "Entrainer une PCA sur le dataset complet afin de réduire la dimensionnalité du dataset à deux composantes principales. Ensuite, visualiser si les trois classes sont séparées dans un scatterplot à niveau de ces nouvelles variables."
   ]
  },
  {
   "cell_type": "code",
   "execution_count": null,
   "metadata": {},
   "outputs": [],
   "source": [
    "from sklearn.decomposition import PCA"
   ]
  },
  {
   "cell_type": "code",
   "execution_count": null,
   "metadata": {},
   "outputs": [],
   "source": []
  },
  {
   "cell_type": "markdown",
   "metadata": {},
   "source": [
    "# Exercice 2"
   ]
  },
  {
   "cell_type": "markdown",
   "metadata": {},
   "source": [
    "Dans cet exercice, nous allons analyser un mini dataset d'enquete d'affiliation politique. Suite à l'enquite, des données de tranche d'age (18-29 ans, 30-44, 45-65 et 65+) et d'affiliation politique (droite, gauche ou autre) ont été recoltées pour 1189 individus du pays \"Politiville\". Nous avons été demandé de vérifier s'il y a une liaison entre l'age et l'affiliation politique."
   ]
  },
  {
   "cell_type": "code",
   "execution_count": null,
   "metadata": {},
   "outputs": [],
   "source": [
    "# dataset\n",
    "data = [['18-29', 'Conservative'] for i in range(141)] + \\\n",
    "        [['18-29', 'Socialist'] for i in range(68)] + \\\n",
    "        [['18-29', 'Other'] for i in range(4)] + \\\n",
    "        [['30-44', 'Conservative'] for i in range(179)] + \\\n",
    "        [['30-44', 'Socialist'] for i in range(159)] + \\\n",
    "        [['30-44', 'Other'] for i in range(7)] + \\\n",
    "        [['45-65', 'Conservative'] for i in range(220)] + \\\n",
    "        [['45-65', 'Socialist'] for i in range(216)] + \\\n",
    "        [['45-65', 'Other'] for i in range(4)] + \\\n",
    "        [['65 & older', 'Conservative'] for i in range(86)] + \\\n",
    "        [['65 & older', 'Socialist'] for i in range(101)] + \\\n",
    "        [['65 & older', 'Other'] for i in range(4)]\n",
    "\n",
    "df = pd.DataFrame(data, columns = ['Age Group', 'Political Affiliation']) \n",
    "df.head()"
   ]
  },
  {
   "cell_type": "code",
   "execution_count": null,
   "metadata": {},
   "outputs": [],
   "source": [
    "df.shape"
   ]
  },
  {
   "cell_type": "markdown",
   "metadata": {},
   "source": [
    "Création du tableau de contingence (pd.crosstab dans pandas, avec margins=True)"
   ]
  },
  {
   "cell_type": "code",
   "execution_count": null,
   "metadata": {},
   "outputs": [],
   "source": []
  },
  {
   "cell_type": "code",
   "execution_count": null,
   "metadata": {},
   "outputs": [],
   "source": []
  },
  {
   "cell_type": "markdown",
   "metadata": {},
   "source": [
    "Calcul du chi-2 "
   ]
  },
  {
   "cell_type": "code",
   "execution_count": null,
   "metadata": {},
   "outputs": [],
   "source": []
  },
  {
   "cell_type": "markdown",
   "metadata": {},
   "source": [
    "Vérification de l'hypothèse. pour la valeur critique, on utilise le tableau de chi2 du package scipy."
   ]
  },
  {
   "cell_type": "code",
   "execution_count": null,
   "metadata": {},
   "outputs": [],
   "source": [
    "import scipy.stats as stats\n",
    "\n",
    "# significance level and critical value\n",
    "alpha = 0.05\n",
    "\n",
    "\n",
    "### à completer ####\n",
    "\n",
    "num_deg_liberte = ...\n",
    "\n",
    "####################\n",
    "\n",
    "\n",
    "critical_value = stats.chi2.ppf(...)"
   ]
  },
  {
   "cell_type": "code",
   "execution_count": null,
   "metadata": {},
   "outputs": [],
   "source": []
  },
  {
   "cell_type": "markdown",
   "metadata": {},
   "source": [
    "quelle est la conclusion qu'on peut tirer de ces données? est ce que le test est pertinent?"
   ]
  }
 ],
 "metadata": {
  "kernelspec": {
   "display_name": "Python 3.8.10 64-bit (microsoft store)",
   "language": "python",
   "name": "python3"
  },
  "language_info": {
   "codemirror_mode": {
    "name": "ipython",
    "version": 3
   },
   "file_extension": ".py",
   "mimetype": "text/x-python",
   "name": "python",
   "nbconvert_exporter": "python",
   "pygments_lexer": "ipython3",
   "version": "3.8.10"
  },
  "vscode": {
   "interpreter": {
    "hash": "d798fa6f9b7cf1592edab27a2335357644aedc6f8b3c72f9e938fa34de4dcb68"
   }
  }
 },
 "nbformat": 4,
 "nbformat_minor": 2
}
