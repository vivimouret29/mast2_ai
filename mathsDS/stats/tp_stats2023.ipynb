{
 "cells": [
  {
   "cell_type": "code",
   "execution_count": 53,
   "metadata": {},
   "outputs": [],
   "source": [
    "import pandas as pd\n",
    "import numpy as np\n",
    "import matplotlib.pyplot as plt"
   ]
  },
  {
   "cell_type": "markdown",
   "metadata": {},
   "source": [
    "# Exercice 1\n",
    "\n",
    "Analyse statistique du dataset de fleurs Iris. Le jeu de données comprend 50 échantillons de chacune des trois espèces d'iris (Iris setosa, Iris virginica et Iris versicolor).  Quatre caractéristiques ont été mesurées pour chaque échantillon : la longueur et la largeur des sépales et des pétales, en centimètres.\n",
    "\n",
    "Si vous voulez changer de dataset, analysez des poissons au lieu de fleurs : \"Fish\""
   ]
  },
  {
   "cell_type": "markdown",
   "metadata": {},
   "source": [
    "### Importer le dataset"
   ]
  },
  {
   "cell_type": "code",
   "execution_count": 54,
   "metadata": {},
   "outputs": [
    {
     "data": {
      "text/html": [
       "<div>\n",
       "<style scoped>\n",
       "    .dataframe tbody tr th:only-of-type {\n",
       "        vertical-align: middle;\n",
       "    }\n",
       "\n",
       "    .dataframe tbody tr th {\n",
       "        vertical-align: top;\n",
       "    }\n",
       "\n",
       "    .dataframe thead th {\n",
       "        text-align: right;\n",
       "    }\n",
       "</style>\n",
       "<table border=\"1\" class=\"dataframe\">\n",
       "  <thead>\n",
       "    <tr style=\"text-align: right;\">\n",
       "      <th></th>\n",
       "      <th>sepal length (cm)</th>\n",
       "      <th>sepal width (cm)</th>\n",
       "      <th>petal length (cm)</th>\n",
       "      <th>petal width (cm)</th>\n",
       "    </tr>\n",
       "  </thead>\n",
       "  <tbody>\n",
       "    <tr>\n",
       "      <th>0</th>\n",
       "      <td>5.1</td>\n",
       "      <td>3.5</td>\n",
       "      <td>1.4</td>\n",
       "      <td>0.2</td>\n",
       "    </tr>\n",
       "    <tr>\n",
       "      <th>1</th>\n",
       "      <td>4.9</td>\n",
       "      <td>3.0</td>\n",
       "      <td>1.4</td>\n",
       "      <td>0.2</td>\n",
       "    </tr>\n",
       "    <tr>\n",
       "      <th>2</th>\n",
       "      <td>4.7</td>\n",
       "      <td>3.2</td>\n",
       "      <td>1.3</td>\n",
       "      <td>0.2</td>\n",
       "    </tr>\n",
       "    <tr>\n",
       "      <th>3</th>\n",
       "      <td>4.6</td>\n",
       "      <td>3.1</td>\n",
       "      <td>1.5</td>\n",
       "      <td>0.2</td>\n",
       "    </tr>\n",
       "    <tr>\n",
       "      <th>4</th>\n",
       "      <td>5.0</td>\n",
       "      <td>3.6</td>\n",
       "      <td>1.4</td>\n",
       "      <td>0.2</td>\n",
       "    </tr>\n",
       "    <tr>\n",
       "      <th>5</th>\n",
       "      <td>5.4</td>\n",
       "      <td>3.9</td>\n",
       "      <td>1.7</td>\n",
       "      <td>0.4</td>\n",
       "    </tr>\n",
       "    <tr>\n",
       "      <th>6</th>\n",
       "      <td>4.6</td>\n",
       "      <td>3.4</td>\n",
       "      <td>1.4</td>\n",
       "      <td>0.3</td>\n",
       "    </tr>\n",
       "    <tr>\n",
       "      <th>7</th>\n",
       "      <td>5.0</td>\n",
       "      <td>3.4</td>\n",
       "      <td>1.5</td>\n",
       "      <td>0.2</td>\n",
       "    </tr>\n",
       "    <tr>\n",
       "      <th>8</th>\n",
       "      <td>4.4</td>\n",
       "      <td>2.9</td>\n",
       "      <td>1.4</td>\n",
       "      <td>0.2</td>\n",
       "    </tr>\n",
       "    <tr>\n",
       "      <th>9</th>\n",
       "      <td>4.9</td>\n",
       "      <td>3.1</td>\n",
       "      <td>1.5</td>\n",
       "      <td>0.1</td>\n",
       "    </tr>\n",
       "    <tr>\n",
       "      <th>10</th>\n",
       "      <td>5.4</td>\n",
       "      <td>3.7</td>\n",
       "      <td>1.5</td>\n",
       "      <td>0.2</td>\n",
       "    </tr>\n",
       "    <tr>\n",
       "      <th>11</th>\n",
       "      <td>4.8</td>\n",
       "      <td>3.4</td>\n",
       "      <td>1.6</td>\n",
       "      <td>0.2</td>\n",
       "    </tr>\n",
       "    <tr>\n",
       "      <th>12</th>\n",
       "      <td>4.8</td>\n",
       "      <td>3.0</td>\n",
       "      <td>1.4</td>\n",
       "      <td>0.1</td>\n",
       "    </tr>\n",
       "    <tr>\n",
       "      <th>13</th>\n",
       "      <td>4.3</td>\n",
       "      <td>3.0</td>\n",
       "      <td>1.1</td>\n",
       "      <td>0.1</td>\n",
       "    </tr>\n",
       "    <tr>\n",
       "      <th>14</th>\n",
       "      <td>5.8</td>\n",
       "      <td>4.0</td>\n",
       "      <td>1.2</td>\n",
       "      <td>0.2</td>\n",
       "    </tr>\n",
       "    <tr>\n",
       "      <th>15</th>\n",
       "      <td>5.7</td>\n",
       "      <td>4.4</td>\n",
       "      <td>1.5</td>\n",
       "      <td>0.4</td>\n",
       "    </tr>\n",
       "    <tr>\n",
       "      <th>16</th>\n",
       "      <td>5.4</td>\n",
       "      <td>3.9</td>\n",
       "      <td>1.3</td>\n",
       "      <td>0.4</td>\n",
       "    </tr>\n",
       "    <tr>\n",
       "      <th>17</th>\n",
       "      <td>5.1</td>\n",
       "      <td>3.5</td>\n",
       "      <td>1.4</td>\n",
       "      <td>0.3</td>\n",
       "    </tr>\n",
       "    <tr>\n",
       "      <th>18</th>\n",
       "      <td>5.7</td>\n",
       "      <td>3.8</td>\n",
       "      <td>1.7</td>\n",
       "      <td>0.3</td>\n",
       "    </tr>\n",
       "    <tr>\n",
       "      <th>19</th>\n",
       "      <td>5.1</td>\n",
       "      <td>3.8</td>\n",
       "      <td>1.5</td>\n",
       "      <td>0.3</td>\n",
       "    </tr>\n",
       "  </tbody>\n",
       "</table>\n",
       "</div>"
      ],
      "text/plain": [
       "    sepal length (cm)  sepal width (cm)  petal length (cm)  petal width (cm)\n",
       "0                 5.1               3.5                1.4               0.2\n",
       "1                 4.9               3.0                1.4               0.2\n",
       "2                 4.7               3.2                1.3               0.2\n",
       "3                 4.6               3.1                1.5               0.2\n",
       "4                 5.0               3.6                1.4               0.2\n",
       "5                 5.4               3.9                1.7               0.4\n",
       "6                 4.6               3.4                1.4               0.3\n",
       "7                 5.0               3.4                1.5               0.2\n",
       "8                 4.4               2.9                1.4               0.2\n",
       "9                 4.9               3.1                1.5               0.1\n",
       "10                5.4               3.7                1.5               0.2\n",
       "11                4.8               3.4                1.6               0.2\n",
       "12                4.8               3.0                1.4               0.1\n",
       "13                4.3               3.0                1.1               0.1\n",
       "14                5.8               4.0                1.2               0.2\n",
       "15                5.7               4.4                1.5               0.4\n",
       "16                5.4               3.9                1.3               0.4\n",
       "17                5.1               3.5                1.4               0.3\n",
       "18                5.7               3.8                1.7               0.3\n",
       "19                5.1               3.8                1.5               0.3"
      ]
     },
     "execution_count": 54,
     "metadata": {},
     "output_type": "execute_result"
    }
   ],
   "source": [
    "from sklearn import datasets\n",
    "\n",
    "iris = datasets.load_iris(\n",
    "    as_frame=True\n",
    ")  # true si vous voulez un dataframe pandas, false si vous voulez un np.array\n",
    "X = iris.data  # données des 4 caractéristiques des fleurs\n",
    "y = iris.target  # labels du type de fleur pour chaque instance\n",
    "X.head(20)"
   ]
  },
  {
   "cell_type": "markdown",
   "metadata": {},
   "source": [
    "TODO : affichez taille du dataset et quelques exemples"
   ]
  },
  {
   "cell_type": "code",
   "execution_count": 55,
   "metadata": {},
   "outputs": [
    {
     "data": {
      "text/plain": [
       "(150, 4)"
      ]
     },
     "execution_count": 55,
     "metadata": {},
     "output_type": "execute_result"
    }
   ],
   "source": [
    "X.shape"
   ]
  },
  {
   "cell_type": "markdown",
   "metadata": {},
   "source": [
    " Créer un nouveau dataframe dans une variable X0, qui prend en compte seulement les individus appartenant à la classe y = 0 (Iris Setosa)"
   ]
  },
  {
   "cell_type": "code",
   "execution_count": 56,
   "metadata": {},
   "outputs": [
    {
     "data": {
      "text/html": [
       "<div>\n",
       "<style scoped>\n",
       "    .dataframe tbody tr th:only-of-type {\n",
       "        vertical-align: middle;\n",
       "    }\n",
       "\n",
       "    .dataframe tbody tr th {\n",
       "        vertical-align: top;\n",
       "    }\n",
       "\n",
       "    .dataframe thead th {\n",
       "        text-align: right;\n",
       "    }\n",
       "</style>\n",
       "<table border=\"1\" class=\"dataframe\">\n",
       "  <thead>\n",
       "    <tr style=\"text-align: right;\">\n",
       "      <th></th>\n",
       "      <th>sepal length (cm)</th>\n",
       "      <th>sepal width (cm)</th>\n",
       "      <th>petal length (cm)</th>\n",
       "      <th>petal width (cm)</th>\n",
       "    </tr>\n",
       "  </thead>\n",
       "  <tbody>\n",
       "    <tr>\n",
       "      <th>0</th>\n",
       "      <td>5.1</td>\n",
       "      <td>3.5</td>\n",
       "      <td>1.4</td>\n",
       "      <td>0.2</td>\n",
       "    </tr>\n",
       "    <tr>\n",
       "      <th>1</th>\n",
       "      <td>4.9</td>\n",
       "      <td>3.0</td>\n",
       "      <td>1.4</td>\n",
       "      <td>0.2</td>\n",
       "    </tr>\n",
       "    <tr>\n",
       "      <th>2</th>\n",
       "      <td>4.7</td>\n",
       "      <td>3.2</td>\n",
       "      <td>1.3</td>\n",
       "      <td>0.2</td>\n",
       "    </tr>\n",
       "    <tr>\n",
       "      <th>3</th>\n",
       "      <td>4.6</td>\n",
       "      <td>3.1</td>\n",
       "      <td>1.5</td>\n",
       "      <td>0.2</td>\n",
       "    </tr>\n",
       "    <tr>\n",
       "      <th>4</th>\n",
       "      <td>5.0</td>\n",
       "      <td>3.6</td>\n",
       "      <td>1.4</td>\n",
       "      <td>0.2</td>\n",
       "    </tr>\n",
       "  </tbody>\n",
       "</table>\n",
       "</div>"
      ],
      "text/plain": [
       "   sepal length (cm)  sepal width (cm)  petal length (cm)  petal width (cm)\n",
       "0                5.1               3.5                1.4               0.2\n",
       "1                4.9               3.0                1.4               0.2\n",
       "2                4.7               3.2                1.3               0.2\n",
       "3                4.6               3.1                1.5               0.2\n",
       "4                5.0               3.6                1.4               0.2"
      ]
     },
     "execution_count": 56,
     "metadata": {},
     "output_type": "execute_result"
    }
   ],
   "source": [
    "X0 = X[y == 0]\n",
    "X0.head()"
   ]
  },
  {
   "cell_type": "markdown",
   "metadata": {},
   "source": [
    "Calculer et afficher les valeurs des statistiques de base pour les variables 'Sepal length' et 'Sepal width' du dataset X0 :\n",
    "* moyenne, mode, mediane\n",
    "* deviation standard"
   ]
  },
  {
   "cell_type": "code",
   "execution_count": 57,
   "metadata": {},
   "outputs": [
    {
     "name": "stdout",
     "output_type": "stream",
     "text": [
      "average: 5.005999999999999 \n",
      "mesdian: 5.0 dominant value: 0    5.0\n",
      "1    5.1\n",
      "Name: sepal length (cm), dtype: float64 \n",
      "ecart type: 0.3524896872134512\n"
     ]
    }
   ],
   "source": [
    "avg_lgth = X1['sepal length (cm)'].mean()\n",
    "med_lgth = X1['sepal length (cm)'].median()\n",
    "mod_lngth = X1['sepal length (cm)'].mode()\n",
    "etp_lgth = X1['sepal length (cm)'].std()\n",
    "\n",
    "print(\n",
    "    f'average: {avg_lgth}',\n",
    "    f'\\nmesdian: {med_lgth}',\n",
    "    f'dominant value: {mod_lngth}',\n",
    "    f'\\necart type: {etp_lgth}',\n",
    ")\n"
   ]
  },
  {
   "cell_type": "code",
   "execution_count": 58,
   "metadata": {},
   "outputs": [
    {
     "name": "stdout",
     "output_type": "stream",
     "text": [
      "average: 3.428000000000001 \n",
      "mesdian: 3.4 dominant value: 0    3.4\n",
      "Name: sepal width (cm), dtype: float64 \n",
      "ecart type: 0.3790643690962886\n"
     ]
    }
   ],
   "source": [
    "avg_wdth = X1['sepal width (cm)'].mean()\n",
    "med_wdth = X1['sepal width (cm)'].median()\n",
    "mod_wdth = X1['sepal width (cm)'].mode()\n",
    "etp_wdth = X1['sepal width (cm)'].std()\n",
    "\n",
    "print(\n",
    "    f'average: {avg_wdth}',\n",
    "    f'\\nmesdian: {med_wdth}',\n",
    "    f'dominant value: {mod_wdth}',\n",
    "    f'\\necart type: {etp_wdth}',\n",
    ")"
   ]
  },
  {
   "cell_type": "markdown",
   "metadata": {},
   "source": [
    "Réfaire la même chose pour les individus de la classe y==1 (Iris Virginica), dans un datset X1.\n",
    "Est-ce que vous remarquez des différences par rapport au type de Iris précédent? Pouvez vous tirer des conclusions?"
   ]
  },
  {
   "cell_type": "code",
   "execution_count": 59,
   "metadata": {},
   "outputs": [
    {
     "name": "stdout",
     "output_type": "stream",
     "text": [
      "average: 5.005999999999999 \n",
      "mesdian: 5.0 dominant value: 0    5.0\n",
      "1    5.1\n",
      "Name: sepal length (cm), dtype: float64 \n",
      "ecart type: 0.3524896872134512\n",
      "average: 3.428000000000001 \n",
      "mesdian: 3.4 dominant value: 0    3.4\n",
      "Name: sepal width (cm), dtype: float64 \n",
      "ecart type: 0.3790643690962886\n"
     ]
    }
   ],
   "source": [
    "X1 = X[y == 0]\n",
    "\n",
    "avg_lgth = X1['sepal length (cm)'].mean()\n",
    "med_lgth = X1['sepal length (cm)'].median()\n",
    "mod_lgth = X1['sepal length (cm)'].mode()\n",
    "etp_lgth = X1['sepal length (cm)'].std()\n",
    "\n",
    "print(\n",
    "    f'average: {avg_lgth}',\n",
    "    f'\\nmesdian: {med_lgth}',\n",
    "    f'dominant value: {mod_lgth}',\n",
    "    f'\\necart type: {etp_lgth}',\n",
    ")\n",
    "\n",
    "avg_wdth = X1['sepal width (cm)'].mean()\n",
    "med_wdth = X1['sepal width (cm)'].median()\n",
    "mod_wdth = X1['sepal width (cm)'].mode()\n",
    "etp_wdth = X1['sepal width (cm)'].std()\n",
    "\n",
    "print(\n",
    "    f'average: {avg_wdth}',\n",
    "    f'\\nmesdian: {med_wdth}',\n",
    "    f'dominant value: {mod_wdth}',\n",
    "    f'\\necart type: {etp_wdth}',\n",
    ")"
   ]
  },
  {
   "cell_type": "markdown",
   "metadata": {},
   "source": [
    "Pour les fleur Iris Setosa et Iris Virginica, faire aussi le calcul des quartiles pour la variable 'sepal length'. \n",
    "Ensuite, faire le plot de l'histogramme de cette variable et y rajouter des lignes verticales pour moyenne, mode, mediane et quartiles. Observez vous des différences ou des similarités?"
   ]
  },
  {
   "cell_type": "code",
   "execution_count": 60,
   "metadata": {},
   "outputs": [
    {
     "data": {
      "text/plain": [
       "0.25    4.8\n",
       "0.50    5.0\n",
       "0.75    5.2\n",
       "Name: sepal length (cm), dtype: float64"
      ]
     },
     "execution_count": 60,
     "metadata": {},
     "output_type": "execute_result"
    }
   ],
   "source": [
    "X0['sepal length (cm)'].quantile([0.25,0.5,0.75])"
   ]
  },
  {
   "cell_type": "code",
   "execution_count": 61,
   "metadata": {},
   "outputs": [],
   "source": [
    "q25 = X0['sepal length (cm)'].quantile(.25)\n",
    "q5 = X0['sepal length (cm)'].quantile(.5)\n",
    "q75 = X0['sepal length (cm)'].quantile(.75)"
   ]
  },
  {
   "cell_type": "code",
   "execution_count": 62,
   "metadata": {},
   "outputs": [
    {
     "data": {
      "image/png": "[encoded data removed]",
      "text/plain": [
       "<Figure size 640x480 with 1 Axes>"
      ]
     },
     "metadata": {},
     "output_type": "display_data"
    }
   ],
   "source": [
    "plt.hist(X0['sepal length (cm)'], alpha=0.5)\n",
    "\n",
    "plt.hist(X0['sepal length (cm)'], alpha=0.65)\n",
    "\n",
    "plt.axvline(avg_lgth, linestyle='dashed', linewidth=1)\n",
    "plt.axvline(mod_lgth[0], linestyle='dashed', color='yellow', linewidth=1)\n",
    "plt.axvline(med_lgth, linestyle='dashed', color='yellow', linewidth=1)\n",
    "plt.axvline(q25, linestyle='dashed', color='red', linewidth=1)\n",
    "plt.axvline(q5, linestyle='dashed', linewidth=1)\n",
    "plt.axvline(q75, linestyle='dashed',color='red', linewidth=1)\n",
    "\n",
    "plt.title(\"X0\")\n",
    "plt.show()"
   ]
  },
  {
   "cell_type": "code",
   "execution_count": 63,
   "metadata": {},
   "outputs": [],
   "source": [
    "q25 = X1['sepal length (cm)'].quantile(.25)\n",
    "q5 = X1['sepal length (cm)'].quantile(.5)\n",
    "q75 = X1['sepal length (cm)'].quantile(.75)"
   ]
  },
  {
   "cell_type": "code",
   "execution_count": 64,
   "metadata": {},
   "outputs": [
    {
     "data": {
      "image/png": "[encoded data removed]",
      "text/plain": [
       "<Figure size 640x480 with 1 Axes>"
      ]
     },
     "metadata": {},
     "output_type": "display_data"
    }
   ],
   "source": [
    "plt.hist(X1['sepal length (cm)'], alpha=0.5)\n",
    "\n",
    "plt.hist(X1['sepal length (cm)'], alpha=0.65)\n",
    "\n",
    "plt.axvline(avg_lgth, linestyle='dashed', linewidth=1)\n",
    "plt.axvline(mod_lgth[0], linestyle='dashed', color='yellow', linewidth=1)\n",
    "plt.axvline(med_lgth, linestyle='dashed', color='yellow', linewidth=1)\n",
    "plt.axvline(q25, linestyle='dashed', color='red', linewidth=1)\n",
    "plt.axvline(q5, linestyle='dashed', linewidth=1)\n",
    "plt.axvline(q75, linestyle='dashed',color='red', linewidth=1)\n",
    "\n",
    "plt.title(\"X1\")\n",
    "plt.show()"
   ]
  },
  {
   "cell_type": "markdown",
   "metadata": {},
   "source": [
    "Pour les variables 'Sepal length' et 'Sepal width' du dataset X0, calculer le degré de corrélation linéaire, et \"visualiser\" cela à l'aide de leur scatterplot"
   ]
  },
  {
   "cell_type": "code",
   "execution_count": 65,
   "metadata": {},
   "outputs": [
    {
     "data": {
      "text/plain": [
       "0.7425466856651596"
      ]
     },
     "execution_count": 65,
     "metadata": {},
     "output_type": "execute_result"
    },
    {
     "data": {
      "image/png": "[encoded data removed]",
      "text/plain": [
       "<Figure size 640x480 with 1 Axes>"
      ]
     },
     "metadata": {},
     "output_type": "display_data"
    }
   ],
   "source": [
    "import seaborn as sns\n",
    "sns.scatterplot(x=\"sepal length (cm)\", y=\"sepal width (cm)\", data=X0)\n",
    "X0['sepal length (cm)'].corr(X0['sepal width (cm)'])"
   ]
  },
  {
   "cell_type": "markdown",
   "metadata": {},
   "source": [
    "Dans le dataset complet X, visualisez si les trois classes de fleurs sont visuellement séparées sur un scatterplot dans les variables 'Sepal length' et 'Sepal width'. \n",
    "à noter que, le cas échéant, il serait assez simple de construire un modèle de classification d'Iris dans ces deux variables."
   ]
  },
  {
   "cell_type": "code",
   "execution_count": 66,
   "metadata": {},
   "outputs": [
    {
     "data": {
      "text/plain": [
       "<AxesSubplot:xlabel='sepal length (cm)', ylabel='sepal width (cm)'>"
      ]
     },
     "execution_count": 66,
     "metadata": {},
     "output_type": "execute_result"
    },
    {
     "data": {
      "image/png": "[encoded data removed]",
      "text/plain": [
       "<Figure size 640x480 with 1 Axes>"
      ]
     },
     "metadata": {},
     "output_type": "display_data"
    }
   ],
   "source": [
    "sns.scatterplot(x=\"sepal length (cm)\", y=\"sepal width (cm)\", data=X, c=y)"
   ]
  },
  {
   "cell_type": "markdown",
   "metadata": {},
   "source": [
    "Entrainer une PCA sur le dataset complet afin de réduire la dimensionnalité du dataset à deux composantes principales. Ensuite, visualiser si les trois classes sont séparées dans un scatterplot à niveau de ces nouvelles variables."
   ]
  },
  {
   "cell_type": "code",
   "execution_count": 67,
   "metadata": {},
   "outputs": [],
   "source": [
    "from sklearn.decomposition import PCA"
   ]
  },
  {
   "cell_type": "code",
   "execution_count": null,
   "metadata": {},
   "outputs": [],
   "source": []
  },
  {
   "cell_type": "markdown",
   "metadata": {},
   "source": [
    "# Exercice 2"
   ]
  },
  {
   "cell_type": "markdown",
   "metadata": {},
   "source": [
    "Dans cet exercice, nous allons analyser un mini dataset d'enquete d'affiliation politique. Suite à l'enquite, des données de tranche d'age (18-29 ans, 30-44, 45-65 et 65+) et d'affiliation politique (droite, gauche ou autre) ont été recoltées pour 1189 individus du pays \"Politiville\". Nous avons été demandé de vérifier s'il y a une liaison entre l'age et l'affiliation politique."
   ]
  },
  {
   "cell_type": "code",
   "execution_count": 68,
   "metadata": {},
   "outputs": [
    {
     "data": {
      "text/html": [
       "<div>\n",
       "<style scoped>\n",
       "    .dataframe tbody tr th:only-of-type {\n",
       "        vertical-align: middle;\n",
       "    }\n",
       "\n",
       "    .dataframe tbody tr th {\n",
       "        vertical-align: top;\n",
       "    }\n",
       "\n",
       "    .dataframe thead th {\n",
       "        text-align: right;\n",
       "    }\n",
       "</style>\n",
       "<table border=\"1\" class=\"dataframe\">\n",
       "  <thead>\n",
       "    <tr style=\"text-align: right;\">\n",
       "      <th></th>\n",
       "      <th>Age Group</th>\n",
       "      <th>Political Affiliation</th>\n",
       "    </tr>\n",
       "  </thead>\n",
       "  <tbody>\n",
       "    <tr>\n",
       "      <th>0</th>\n",
       "      <td>18-29</td>\n",
       "      <td>Conservative</td>\n",
       "    </tr>\n",
       "    <tr>\n",
       "      <th>1</th>\n",
       "      <td>18-29</td>\n",
       "      <td>Conservative</td>\n",
       "    </tr>\n",
       "    <tr>\n",
       "      <th>2</th>\n",
       "      <td>18-29</td>\n",
       "      <td>Conservative</td>\n",
       "    </tr>\n",
       "    <tr>\n",
       "      <th>3</th>\n",
       "      <td>18-29</td>\n",
       "      <td>Conservative</td>\n",
       "    </tr>\n",
       "    <tr>\n",
       "      <th>4</th>\n",
       "      <td>18-29</td>\n",
       "      <td>Conservative</td>\n",
       "    </tr>\n",
       "  </tbody>\n",
       "</table>\n",
       "</div>"
      ],
      "text/plain": [
       "  Age Group Political Affiliation\n",
       "0     18-29          Conservative\n",
       "1     18-29          Conservative\n",
       "2     18-29          Conservative\n",
       "3     18-29          Conservative\n",
       "4     18-29          Conservative"
      ]
     },
     "execution_count": 68,
     "metadata": {},
     "output_type": "execute_result"
    }
   ],
   "source": [
    "# dataset\n",
    "data = [['18-29', 'Conservative'] for i in range(141)] + \\\n",
    "        [['18-29', 'Socialist'] for i in range(68)] + \\\n",
    "        [['18-29', 'Other'] for i in range(4)] + \\\n",
    "        [['30-44', 'Conservative'] for i in range(179)] + \\\n",
    "        [['30-44', 'Socialist'] for i in range(159)] + \\\n",
    "        [['30-44', 'Other'] for i in range(7)] + \\\n",
    "        [['45-65', 'Conservative'] for i in range(220)] + \\\n",
    "        [['45-65', 'Socialist'] for i in range(216)] + \\\n",
    "        [['45-65', 'Other'] for i in range(4)] + \\\n",
    "        [['65 & older', 'Conservative'] for i in range(86)] + \\\n",
    "        [['65 & older', 'Socialist'] for i in range(101)] + \\\n",
    "        [['65 & older', 'Other'] for i in range(4)]\n",
    "\n",
    "df = pd.DataFrame(data, columns = ['Age Group', 'Political Affiliation']) \n",
    "df.head()"
   ]
  },
  {
   "cell_type": "code",
   "execution_count": 69,
   "metadata": {},
   "outputs": [
    {
     "data": {
      "text/plain": [
       "(1189, 2)"
      ]
     },
     "execution_count": 69,
     "metadata": {},
     "output_type": "execute_result"
    }
   ],
   "source": [
    "df.shape"
   ]
  },
  {
   "cell_type": "markdown",
   "metadata": {},
   "source": [
    "Création du tableau de contingence (pd.crosstab dans pandas, avec margins=True)"
   ]
  },
  {
   "cell_type": "code",
   "execution_count": 70,
   "metadata": {},
   "outputs": [
    {
     "data": {
      "text/html": [
       "<div>\n",
       "<style scoped>\n",
       "    .dataframe tbody tr th:only-of-type {\n",
       "        vertical-align: middle;\n",
       "    }\n",
       "\n",
       "    .dataframe tbody tr th {\n",
       "        vertical-align: top;\n",
       "    }\n",
       "\n",
       "    .dataframe thead th {\n",
       "        text-align: right;\n",
       "    }\n",
       "</style>\n",
       "<table border=\"1\" class=\"dataframe\">\n",
       "  <thead>\n",
       "    <tr style=\"text-align: right;\">\n",
       "      <th></th>\n",
       "      <th>Age Group</th>\n",
       "      <th>Political Affiliation</th>\n",
       "    </tr>\n",
       "  </thead>\n",
       "  <tbody>\n",
       "    <tr>\n",
       "      <th>count</th>\n",
       "      <td>1189</td>\n",
       "      <td>1189</td>\n",
       "    </tr>\n",
       "    <tr>\n",
       "      <th>unique</th>\n",
       "      <td>4</td>\n",
       "      <td>3</td>\n",
       "    </tr>\n",
       "    <tr>\n",
       "      <th>top</th>\n",
       "      <td>45-65</td>\n",
       "      <td>Conservative</td>\n",
       "    </tr>\n",
       "    <tr>\n",
       "      <th>freq</th>\n",
       "      <td>440</td>\n",
       "      <td>626</td>\n",
       "    </tr>\n",
       "  </tbody>\n",
       "</table>\n",
       "</div>"
      ],
      "text/plain": [
       "       Age Group Political Affiliation\n",
       "count       1189                  1189\n",
       "unique         4                     3\n",
       "top        45-65          Conservative\n",
       "freq         440                   626"
      ]
     },
     "execution_count": 70,
     "metadata": {},
     "output_type": "execute_result"
    }
   ],
   "source": [
    "df.describe()"
   ]
  },
  {
   "cell_type": "code",
   "execution_count": 71,
   "metadata": {},
   "outputs": [
    {
     "data": {
      "text/html": [
       "<div>\n",
       "<style scoped>\n",
       "    .dataframe tbody tr th:only-of-type {\n",
       "        vertical-align: middle;\n",
       "    }\n",
       "\n",
       "    .dataframe tbody tr th {\n",
       "        vertical-align: top;\n",
       "    }\n",
       "\n",
       "    .dataframe thead th {\n",
       "        text-align: right;\n",
       "    }\n",
       "</style>\n",
       "<table border=\"1\" class=\"dataframe\">\n",
       "  <thead>\n",
       "    <tr style=\"text-align: right;\">\n",
       "      <th>Political Affiliation</th>\n",
       "      <th>Conservative</th>\n",
       "      <th>Other</th>\n",
       "      <th>Socialist</th>\n",
       "      <th>All</th>\n",
       "    </tr>\n",
       "    <tr>\n",
       "      <th>Age Group</th>\n",
       "      <th></th>\n",
       "      <th></th>\n",
       "      <th></th>\n",
       "      <th></th>\n",
       "    </tr>\n",
       "  </thead>\n",
       "  <tbody>\n",
       "    <tr>\n",
       "      <th>18-29</th>\n",
       "      <td>141</td>\n",
       "      <td>4</td>\n",
       "      <td>68</td>\n",
       "      <td>213</td>\n",
       "    </tr>\n",
       "    <tr>\n",
       "      <th>30-44</th>\n",
       "      <td>179</td>\n",
       "      <td>7</td>\n",
       "      <td>159</td>\n",
       "      <td>345</td>\n",
       "    </tr>\n",
       "    <tr>\n",
       "      <th>45-65</th>\n",
       "      <td>220</td>\n",
       "      <td>4</td>\n",
       "      <td>216</td>\n",
       "      <td>440</td>\n",
       "    </tr>\n",
       "    <tr>\n",
       "      <th>65 &amp; older</th>\n",
       "      <td>86</td>\n",
       "      <td>4</td>\n",
       "      <td>101</td>\n",
       "      <td>191</td>\n",
       "    </tr>\n",
       "    <tr>\n",
       "      <th>All</th>\n",
       "      <td>626</td>\n",
       "      <td>19</td>\n",
       "      <td>544</td>\n",
       "      <td>1189</td>\n",
       "    </tr>\n",
       "  </tbody>\n",
       "</table>\n",
       "</div>"
      ],
      "text/plain": [
       "Political Affiliation  Conservative  Other  Socialist   All\n",
       "Age Group                                                  \n",
       "18-29                           141      4         68   213\n",
       "30-44                           179      7        159   345\n",
       "45-65                           220      4        216   440\n",
       "65 & older                       86      4        101   191\n",
       "All                             626     19        544  1189"
      ]
     },
     "execution_count": 71,
     "metadata": {},
     "output_type": "execute_result"
    }
   ],
   "source": [
    "cont = pd.crosstab(df['Age Group'],df['Political Affiliation'],margins=True)\n",
    "cont"
   ]
  },
  {
   "cell_type": "markdown",
   "metadata": {},
   "source": [
    "Calcul du chi-2 "
   ]
  },
  {
   "cell_type": "code",
   "execution_count": 72,
   "metadata": {},
   "outputs": [
    {
     "data": {
      "text/plain": [
       "24.367421717305202"
      ]
     },
     "execution_count": 72,
     "metadata": {},
     "output_type": "execute_result"
    }
   ],
   "source": [
    "import scipy.stats as st\n",
    "st_chi2, st_p, st_dof, st_exp = st.chi2_contingency(cont)\n",
    "st_chi2"
   ]
  },
  {
   "cell_type": "code",
   "execution_count": 73,
   "metadata": {},
   "outputs": [
    {
     "data": {
      "text/plain": [
       "0.018121906378459784"
      ]
     },
     "execution_count": 73,
     "metadata": {},
     "output_type": "execute_result"
    }
   ],
   "source": [
    "st_p"
   ]
  },
  {
   "cell_type": "code",
   "execution_count": 74,
   "metadata": {},
   "outputs": [
    {
     "data": {
      "text/plain": [
       "12"
      ]
     },
     "execution_count": 74,
     "metadata": {},
     "output_type": "execute_result"
    }
   ],
   "source": [
    "st_dof"
   ]
  },
  {
   "cell_type": "code",
   "execution_count": 76,
   "metadata": {},
   "outputs": [
    {
     "data": {
      "text/plain": [
       "array([[ 112.14297729,    3.40370059,   97.45332212,  213.        ],\n",
       "       [ 181.64003364,    5.51303616,  157.84693019,  345.        ],\n",
       "       [ 231.6568545 ,    7.03111859,  201.31202691,  440.        ],\n",
       "       [ 100.56013457,    3.05214466,   87.38772077,  191.        ],\n",
       "       [ 626.        ,   19.        ,  544.        , 1189.        ]])"
      ]
     },
     "execution_count": 76,
     "metadata": {},
     "output_type": "execute_result"
    }
   ],
   "source": [
    "st_exp"
   ]
  },
  {
   "cell_type": "markdown",
   "metadata": {},
   "source": [
    "Vérification de l'hypothèse. pour la valeur critique, on utilise le tableau de chi2 du package scipy."
   ]
  },
  {
   "cell_type": "code",
   "execution_count": 77,
   "metadata": {},
   "outputs": [],
   "source": [
    "import scipy.stats as stats\n",
    "\n",
    "# significance level and critical value\n",
    "alpha = 0.05\n",
    "\n",
    "\n",
    "### à completer ####\n",
    "\n",
    "num_deg_liberte = st_dof\n",
    "\n",
    "####################\n",
    "\n",
    "\n",
    "critical_value = st.chi2.ppf(1-alpha, num_deg_liberte)"
   ]
  },
  {
   "cell_type": "code",
   "execution_count": 78,
   "metadata": {},
   "outputs": [
    {
     "data": {
      "text/plain": [
       "21.02606981748307"
      ]
     },
     "execution_count": 78,
     "metadata": {},
     "output_type": "execute_result"
    }
   ],
   "source": [
    "critical_value"
   ]
  },
  {
   "cell_type": "code",
   "execution_count": null,
   "metadata": {},
   "outputs": [],
   "source": []
  },
  {
   "cell_type": "markdown",
   "metadata": {},
   "source": [
    "quelle est la conclusion qu'on peut tirer de ces données? est ce que le test est pertinent?"
   ]
  },
  {
   "cell_type": "markdown",
   "metadata": {},
   "source": [
    "La veleur est infèrieur, c'est une dépendance"
   ]
  },
  {
   "cell_type": "markdown",
   "metadata": {},
   "source": []
  }
 ],
 "metadata": {
  "kernelspec": {
   "display_name": "Python 3.9.13 ('mathsDS')",
   "language": "python",
   "name": "python3"
  },
  "language_info": {
   "codemirror_mode": {
    "name": "ipython",
    "version": 3
   },
   "file_extension": ".py",
   "mimetype": "text/x-python",
   "name": "python",
   "nbconvert_exporter": "python",
   "pygments_lexer": "ipython3",
   "version": "3.9.13"
  },
  "vscode": {
   "interpreter": {
    "hash": "abe94e5ff804fa730c50d7b9c724933cc249dbf0ab9120476efa12b2931f2148"
   }
  }
 },
 "nbformat": 4,
 "nbformat_minor": 2
}
