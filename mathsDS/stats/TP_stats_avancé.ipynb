{
 "cells": [
  {
   "cell_type": "code",
   "execution_count": null,
   "id": "462eb07e",
   "metadata": {},
   "outputs": [],
   "source": [
    "import ..."
   ]
  },
  {
   "cell_type": "markdown",
   "id": "1905cac0",
   "metadata": {},
   "source": [
    "Ouvrez le dataset \"bodyPerformance.csv\". Ce dataset associe un niveau de performance physique de différentes personnes à partir de données physiques (poids, taille, ...) et associées à certains exercices, pour des hommes et femmes coréennes d'ages différentes entre 20 et 65 ans.\n",
    "\n",
    "Variables : \n",
    "\n",
    "* age : 20~64\n",
    "* gender : F,M\n",
    "* height_cm\n",
    "* weight_kg\n",
    "* body fat_%\n",
    "* diastolic : diastolic blood pressure (min)\n",
    "* systolic : systolic blood pressure (min)\n",
    "* gripForce\n",
    "* sit and bend forward_cm\n",
    "* sit-ups counts\n",
    "* broad jump_cm\n",
    "* class : A,B,C,D ( A: best)"
   ]
  },
  {
   "cell_type": "markdown",
   "id": "eabe02da",
   "metadata": {},
   "source": [
    "# TODO"
   ]
  },
  {
   "cell_type": "markdown",
   "id": "b1d36889",
   "metadata": {},
   "source": [
    "Réalisez une analyse statistique propre de ce dataset, avec des indicateurs de base, des plots bien annotés, analyses de corrélation intéressantes, reduction de dimension ... en expliquant la raison pour laquelle vous avez décidé de faire une certaine analyse et quelles sont vos réflexions sur les resultats obtenus.\n",
    "\n",
    "Bonus : s'il vous reste du temps, construisez un classifieur de forme physique à partir des données disponibles."
   ]
  },
  {
   "cell_type": "code",
   "execution_count": null,
   "id": "df2b5cf0",
   "metadata": {},
   "outputs": [],
   "source": []
  }
 ],
 "metadata": {
  "kernelspec": {
   "display_name": "gym",
   "language": "python",
   "name": "gym"
  },
  "language_info": {
   "codemirror_mode": {
    "name": "ipython",
    "version": 3
   },
   "file_extension": ".py",
   "mimetype": "text/x-python",
   "name": "python",
   "nbconvert_exporter": "python",
   "pygments_lexer": "ipython3",
   "version": "3.9.7"
  }
 },
 "nbformat": 4,
 "nbformat_minor": 5
}
